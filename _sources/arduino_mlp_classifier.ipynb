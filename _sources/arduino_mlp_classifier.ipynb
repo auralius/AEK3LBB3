{
 "cells": [
  {
   "cell_type": "markdown",
   "id": "e823196a",
   "metadata": {},
   "source": [
    "# Arduino Demonstration for Two-Layer Fully Connected Nerural Network"
   ]
  },
  {
   "cell_type": "markdown",
   "id": "62a8655a",
   "metadata": {},
   "source": [
    "## Arduino Code repository\n",
    "\n",
    "https://github.com/auralius/arduino-linear-classifier/tree/main\n",
    "\n",
    "Check the `fcnn` folder.\n",
    "\n",
    "![](./images/demo_fcnn.gif)"
   ]
  },
  {
   "cell_type": "markdown",
   "id": "8140047c",
   "metadata": {},
   "source": [
    "## Preparations"
   ]
  },
  {
   "cell_type": "markdown",
   "id": "672cd582",
   "metadata": {},
   "source": [
    "As usual, let's start with some preparations."
   ]
  },
  {
   "cell_type": "code",
   "execution_count": null,
   "id": "744502c9",
   "metadata": {},
   "outputs": [],
   "source": [
    "import numpy as np\n",
    "from scipy.optimize import minimize\n",
    "import matplotlib.pyplot as plt\n",
    "\n",
    "plt.rcParams.update({\n",
    "    \"text.usetex\": True,\n",
    "    \"font.family\": \"sans-serif\",\n",
    "    \"font.size\": 10,\n",
    "})\n",
    "\n",
    "from utils import *\n",
    "\n",
    "np.set_printoptions(precision=5, suppress=True)"
   ]
  },
  {
   "cell_type": "markdown",
   "id": "d5ebda9d",
   "metadata": {},
   "source": [
    "Put the previous `TwoLayerNet` class here so that we can use it easily to train our classifier."
   ]
  },
  {
   "cell_type": "markdown",
   "id": "a246e476",
   "metadata": {},
   "source": [
    "### The TwoLayerNet class"
   ]
  },
  {
   "cell_type": "code",
   "execution_count": 4,
   "id": "749d34a0",
   "metadata": {},
   "outputs": [],
   "source": [
    "class TwoLayerNet():\n",
    "    \"\"\"\n",
    "    A two-layer fully-connected neural network. The net has an input dimension of\n",
    "    N, a hidden layer dimension of H, and performs classification over C classes.\n",
    "    We train the network with a softmax loss function and L2 regularization on the\n",
    "    weight matrices. The network uses a ReLU nonlinearity after the first fully\n",
    "    connected layer.\n",
    "\n",
    "    In other words, the network has the following architecture:\n",
    "\n",
    "    input - fully connected layer - ReLU - fully connected layer - softmax\n",
    "\n",
    "    The outputs of the second fully-connected layer are the scores for each class.\n",
    "    \"\"\"\n",
    "\n",
    "\n",
    "    def __init__(self, input_size, hidden_size, output_size, std=1e-5):\n",
    "        \"\"\"\n",
    "        Initialize the model. Weights are initialized to small random values and\n",
    "        biases are initialized to zero. Weights and biases are stored in the\n",
    "        variable self.params, which is a dictionary with the following keys:\n",
    "\n",
    "        W1: First layer weights; has shape (D, H)\n",
    "        b1: First layer biases; has shape (H,)\n",
    "        W2: Second layer weights; has shape (H, C)\n",
    "        b2: Second layer biases; has shape (C,)\n",
    "\n",
    "        Inputs:\n",
    "        - input_size: The dimension D of the input data.\n",
    "        - hidden_size: The number of neurons H in the hidden layer.\n",
    "        - output_size: The number of classes C.\n",
    "        \"\"\"\n",
    "        self.params = {}\n",
    "        self.params['W1'] = std * np.random.randn(input_size, hidden_size)\n",
    "        self.params['b1'] = np.zeros(hidden_size)\n",
    "        self.params['W2'] = std * np.random.randn(hidden_size, output_size)\n",
    "        self.params['b2'] = np.zeros(output_size)\n",
    "\n",
    "\n",
    "    @staticmethod\n",
    "    def loss(W1, b1, W2, b2, X, Y, reg=0.0, grad=False):\n",
    "        \"\"\"\n",
    "        Compute the loss and gradients for a two layer fully connected neural\n",
    "        network.\n",
    "\n",
    "        Inputs:\n",
    "        - X: Input data of shape (N, D). Each X[i] is a training sample.\n",
    "        - Y: Vector of training labels. Y[i] is the label for X[i], and each y[i] is\n",
    "        an integer in the range 0 <= Y[i] < C. This parameter is optional; if it\n",
    "        is not passed then we only return scores, and if it is passed then we\n",
    "        instead return the loss and gradients.\n",
    "        - reg: Regularization strength.\n",
    "        - grad: flag to or NOT to return the loss gradients\n",
    "\n",
    "        Returns:\n",
    "        - loss: Loss (data loss and regularization loss) for this batch of training\n",
    "        samples.\n",
    "        - grads: Dictionary mapping parameter names to gradients of those parameters\n",
    "        with respect to the loss function; has the same keys as self.params.\n",
    "        \"\"\"\n",
    "        N, D = X.shape\n",
    "\n",
    "        # Compute the forward pass\n",
    "        fc1 = X.dot(W1) + b1     # fully connected\n",
    "        X2 = np.maximum(0, fc1)  # ReLU\n",
    "        F = X2.dot(W2) + b2 # fully connected\n",
    "        \n",
    "        # Compute the loss \n",
    "        F = F - np.max(F, axis=1).reshape(-1,1)\n",
    "        expF = np.exp(F)\n",
    "        softmax = expF/np.sum(expF, axis=1).reshape(-1,1) \n",
    "        loss = np.sum(-np.log(softmax[range(N),Y])) / N + reg  * (np.sum(W2 * W2) + np.sum( W1 * W1 ))\n",
    "        \n",
    "        if grad == True: # loss gradient is optionals\n",
    "            # Backward pass: compute gradients\n",
    "            softmax[np.arange(N) ,Y] -= 1\n",
    "            softmax /= N\n",
    "\n",
    "            # W2 gradient\n",
    "            dW2 = X2.T.dot(softmax)   # [HxN] * [NxC] = [HxC]\n",
    "\n",
    "            # b2 gradient\n",
    "            db2 = softmax.sum(axis=0)\n",
    "\n",
    "            # W1 gradient\n",
    "            dW1 = softmax.dot(W2.T)   # [NxC] * [CxH] = [NxH]\n",
    "            dfc1 = dW1 * (fc1>0)      # [NxH] . [NxH] = [NxH]\n",
    "            dW1 = X.T.dot(dfc1)       # [DxN] * [NxH] = [DxH]\n",
    "\n",
    "            # b1 gradient\n",
    "            db1 = dfc1.sum(axis=0)\n",
    "\n",
    "            # regularization gradient\n",
    "            dW1 += reg * 2 * W1\n",
    "            dW2 += reg * 2 * W2\n",
    "\n",
    "            dW = np.hstack((dW1.flatten(), db1, dW2.flatten(), db2))\n",
    "        \n",
    "            return (loss, dW)\n",
    "        \n",
    "        return loss\n",
    "\n",
    "\n",
    "    def train(self, X, Y, reg=1e-5, gtol=1e-5, maxiter=1000, verbose=False):\n",
    "        \"\"\"\n",
    "        Train this neural network using stochastic gradient descent.\n",
    "\n",
    "        Inputs:\n",
    "        - X: A numpy array of shape (N, D) giving training data.\n",
    "        - y: A numpy array f shape (N,) giving training labels; y[i] = c means that\n",
    "        X[i] has label c, where 0 <= c < C.\n",
    "        - X_val: A numpy array of shape (N_val, D) giving validation data.\n",
    "        - y_val: A numpy array of shape (N_val,) giving validation labels.\n",
    "        - reg: Scalar giving regularization strength.\n",
    "        - num_iters: Number of steps to take when optimizing.\n",
    "        - verbose: boolean; if true print progress during optimization.\n",
    "        \"\"\"\n",
    "        self.params[\"loss_history\"] = []\n",
    "\n",
    "        D, H = self.params['W1'].shape\n",
    "        H, C = self.params['W2'].shape\n",
    "\n",
    "        def obj(x):\n",
    "            W1 = x[0: D*H].reshape(D,H)\n",
    "            b1 = x[D*H: D*H+H]\n",
    "            W2 = x[D*H+H: D*H+H+(H*C)].reshape(H,C)\n",
    "            b2 = x[D*H+H+(H*C):]\n",
    "\n",
    "            loss = self.loss(W1, b1, W2, b2, X, Y, reg=reg, grad=True)\n",
    "            self.params[\"loss_history\"].append(loss[0])\n",
    "\n",
    "            if verbose == True:\n",
    "                print(loss)\n",
    "\n",
    "            return loss\n",
    "\n",
    "        x0 = np.hstack((self.params['W1'].flatten(), \n",
    "                        self.params['b1'], \n",
    "                        self.params['W2'].flatten(), \n",
    "                        self.params['b2']))\n",
    "        res = minimize(obj, x0, method='L-BFGS-B', jac=True, options={'gtol': gtol, 'maxiter': maxiter, 'disp': True})\n",
    "\n",
    "        self.params[\"W1\"] = res.x[0: D*H].reshape(D,H)\n",
    "        self.params[\"b1\"] = res.x[D*H: D*H+H]\n",
    "        self.params[\"W2\"] = res.x[D*H+H: D*H+H+(H*C)].reshape(H,C)\n",
    "        self.params[\"b2\"] = res.x[D*H+H+(H*C):]\n",
    "    \n",
    "\n",
    "    def predict(self, X):\n",
    "        \"\"\"\n",
    "        Use the trained weights of this two-layer network to predict labels for\n",
    "        data points. For each data point we predict scores for each of the C\n",
    "        classes, and assign each data point to the class with the highest score.\n",
    "\n",
    "        Inputs:\n",
    "        - X: A numpy array of shape (N, D) giving N D-dimensional data points to\n",
    "        classify.\n",
    "\n",
    "        Returns:\n",
    "        - Y_pred: A numpy array of shape (N,) giving predicted labels for each of\n",
    "        the elements of X. For all i, y_pred[i] = c means that X[i] is predicted\n",
    "        to have class c, where 0 <= c < C.\n",
    "        \"\"\"\n",
    "\n",
    "        # Unpack variables from the params dictionary\n",
    "        W1, b1 = self.params['W1'], self.params['b1']\n",
    "        W2, b2 = self.params['W2'], self.params['b2']\n",
    "\n",
    "        # Compute the forward pass\n",
    "        fc1 = X.dot(W1) + b1     # fully connected\n",
    "        X2 = np.maximum(0, fc1)  # ReLU\n",
    "        scores = X2.dot(W2) + b2 # fully connected\n",
    "    \n",
    "        y_pred = np.argmax( scores, axis=1)\n",
    "        \n",
    "        return y_pred"
   ]
  },
  {
   "cell_type": "markdown",
   "id": "3465e012",
   "metadata": {},
   "source": [
    "## USPS Dataset"
   ]
  },
  {
   "cell_type": "markdown",
   "id": "f453a0ff",
   "metadata": {},
   "source": [
    "The USPS dataset is a little more suitable for our implementation then the MNIST dataset. Images in the USPS dataset are wrapped as tightly as possible inside their bounding boxes. Thus, every image is centered at the center of its bounding box. As for images in the MNIST dataset, they are not tightly wrapped. Each image is centered its center of mass. Finding center of mass of an image is considerably very resource demanding for a general low-cost microcontoller that we will use.\n",
    "\n",
    "The USPS dataset can be found here:\n",
    "\n",
    "https://www.csie.ntu.edu.tw/~cjlin/libsvmtools/datasets/multiclass.html#usps\n"
   ]
  },
  {
   "cell_type": "code",
   "execution_count": 5,
   "id": "1af98764",
   "metadata": {},
   "outputs": [
    {
     "name": "stdout",
     "output_type": "stream",
     "text": [
      "Training data\n",
      "Dimension numbers : 256\n",
      "Number of data    : 7291\n",
      "Labels            : [0 1 2 3 4 5 6 7 8 9]\n",
      "Test data\n",
      "Dimension numbers : 256\n",
      "Number of data    : 2007\n",
      "Labels            : [0 1 2 3 4 5 6 7 8 9]\n"
     ]
    }
   ],
   "source": [
    "import h5py\n",
    "with h5py.File(\"./datasets/usps/usps.h5\", 'r') as hf:\n",
    "    X_train = hf.get(\"train\").get('data')[:] * 255.0\n",
    "    Y_train = np.int32(hf.get(\"train\").get('target')[:]) \n",
    "\n",
    "    X_test = hf.get(\"test\").get('data')[:] * 255.0\n",
    "    Y_test = np.int32(hf.get(\"test\").get('target')[:]) \n",
    "\n",
    "print(\"Training data\")\n",
    "print(\"Dimension numbers :\", X_train.shape[1])\n",
    "print(\"Number of data    :\", X_train.shape[0])\n",
    "print(\"Labels            :\", np.unique(Y_train))\n",
    "\n",
    "print(\"Test data\")\n",
    "print(\"Dimension numbers :\", X_test.shape[1])\n",
    "print(\"Number of data    :\", X_test.shape[0])\n",
    "print(\"Labels            :\", np.unique(Y_test))\n",
    "\n",
    "# For the NN\n",
    "input_size  = X_train.shape[1]\n",
    "num_classes = len(np.unique(Y_train))"
   ]
  },
  {
   "cell_type": "code",
   "execution_count": 6,
   "id": "3ed4a173",
   "metadata": {},
   "outputs": [
    {
     "data": {
      "image/png": "[encoded data removed]",
      "text/plain": [
       "<Figure size 640x480 with 100 Axes>"
      ]
     },
     "metadata": {},
     "output_type": "display_data"
    }
   ],
   "source": [
    "for i in range(100):\n",
    "    X_train_ = X_train[i,:].reshape(16, 16)\n",
    "    X_train_ = np.abs(255.0 - X_train_)\n",
    "    plt.subplot(20, 10, i + 1)\n",
    "    # Rescale the weights to be between 0 and 255\n",
    "    plt.imshow(X_train_.astype('uint8'), cmap='Greys')\n",
    "    plt.axis('off')"
   ]
  },
  {
   "cell_type": "markdown",
   "id": "aae7ecb6",
   "metadata": {},
   "source": [
    "## Training"
   ]
  },
  {
   "cell_type": "markdown",
   "id": "f278e467",
   "metadata": {},
   "source": [
    "* `input_size = 256`, the resolution of the image is 16x16\n",
    "* `hidden_size = 50`, this is a tunable hyperparameter\n",
    "* `num_classes = 10`, 10 classes: 0, 1, 2, 3, 4, 5, 6, 7, 8, 9\n",
    "* `reg = 0.01`, this is anothe tunable hyperparameter"
   ]
  },
  {
   "cell_type": "code",
   "execution_count": 22,
   "id": "29d0f847",
   "metadata": {},
   "outputs": [],
   "source": [
    "hidden_size = 50\n",
    "\n",
    "net = TwoLayerNet(input_size, hidden_size, num_classes)\n",
    "stats = net.train(X_train, Y_train, reg=0.5, gtol=1e-3, maxiter=100, verbose=False)"
   ]
  },
  {
   "cell_type": "code",
   "execution_count": 23,
   "id": "4e9ee0cc",
   "metadata": {},
   "outputs": [
    {
     "data": {
      "image/png": "[encoded data removed]",
      "text/plain": [
       "<Figure size 640x480 with 1 Axes>"
      ]
     },
     "metadata": {},
     "output_type": "display_data"
    }
   ],
   "source": [
    "plt.plot(net.params[\"loss_history\"])\n",
    "plt.xlabel('Iteration number')\n",
    "plt.ylabel('Loss value')\n",
    "plt.show()"
   ]
  },
  {
   "cell_type": "markdown",
   "id": "4f13f3ff",
   "metadata": {},
   "source": [
    "## Testing"
   ]
  },
  {
   "cell_type": "code",
   "execution_count": 24,
   "id": "88e663c6",
   "metadata": {},
   "outputs": [
    {
     "name": "stdout",
     "output_type": "stream",
     "text": [
      "Training accuracy :  0.9798381566314635\n",
      "Test accuracy     :  0.931738913801694\n"
     ]
    }
   ],
   "source": [
    "# Predict on the validation set\n",
    "train_acc = (net.predict(X_train) == Y_train).mean()\n",
    "print('Training accuracy : ', train_acc)\n",
    "\n",
    "# Predict on the test set\n",
    "test_acc = (net.predict(X_test) == Y_test).mean()\n",
    "print('Test accuracy     : ', test_acc)"
   ]
  },
  {
   "cell_type": "markdown",
   "id": "01c3f4d4",
   "metadata": {},
   "source": [
    "## Save the matrix"
   ]
  },
  {
   "cell_type": "markdown",
   "id": "1ac59346",
   "metadata": {},
   "source": [
    "Since we are using the \"bias trick\" in the Arduino, we will bundle the weight matrix and its corresponding bias vector together. Next, considering what we want to do is: `x@W`, we will store `W.transpose()`. The reason is because single indexing of a 2D-array is done in a row-major order. Additionally, each line must be NULL terminated."
   ]
  },
  {
   "cell_type": "code",
   "execution_count": 25,
   "id": "4a3dbd3d",
   "metadata": {},
   "outputs": [],
   "source": [
    "np.savetxt('W1.txt', np.float16(np.hstack((net.params[\"W1\"].transpose(), net.params['b1'].reshape(-1,1)))), delimiter='\\0\\n', fmt='%.1e', newline='\\0\\n')\n",
    "np.savetxt('W2.txt', np.float16(np.hstack((net.params[\"W2\"].transpose(), net.params['b2'].reshape(-1,1)))), delimiter='\\0\\n', fmt='%.1e', newline='\\0\\n')"
   ]
  },
  {
   "cell_type": "markdown",
   "id": "7e31a8d0",
   "metadata": {},
   "source": [
    "Let's check te dimenstion and make sure they make sense."
   ]
  },
  {
   "cell_type": "code",
   "execution_count": 26,
   "id": "0b536061",
   "metadata": {},
   "outputs": [
    {
     "data": {
      "text/plain": [
       "(50, 257)"
      ]
     },
     "execution_count": 26,
     "metadata": {},
     "output_type": "execute_result"
    }
   ],
   "source": [
    "np.float16(np.hstack((net.params[\"W1\"].transpose(), net.params['b1'].reshape(-1,1)))).shape"
   ]
  },
  {
   "cell_type": "code",
   "execution_count": 27,
   "id": "d5a48b78",
   "metadata": {},
   "outputs": [
    {
     "data": {
      "text/plain": [
       "(10, 51)"
      ]
     },
     "execution_count": 27,
     "metadata": {},
     "output_type": "execute_result"
    }
   ],
   "source": [
    "np.float16(np.hstack((net.params[\"W2\"].transpose(), net.params['b2'].reshape(-1,1)))).shape"
   ]
  },
  {
   "cell_type": "markdown",
   "id": "bcad49f2",
   "metadata": {},
   "source": [
    "Things are loking good. We can copy W1.txt and W2.txt to the SD card."
   ]
  }
 ],
 "metadata": {
  "kernelspec": {
   "display_name": "ipykernel 3.12.4",
   "language": "python",
   "name": "py.3.12.4"
  },
  "language_info": {
   "codemirror_mode": {
    "name": "ipython",
    "version": 3
   },
   "file_extension": ".py",
   "mimetype": "text/x-python",
   "name": "python",
   "nbconvert_exporter": "python",
   "pygments_lexer": "ipython3",
   "version": "3.12.3"
  }
 },
 "nbformat": 4,
 "nbformat_minor": 5
}

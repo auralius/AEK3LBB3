{
 "cells": [
  {
   "cell_type": "markdown",
   "id": "bce0fbc2",
   "metadata": {},
   "source": [
    "# Demo-1: Linear Classifiers with Arduino"
   ]
  },
  {
   "cell_type": "markdown",
   "id": "38eefe3f",
   "metadata": {},
   "source": [
    "This is a demonstration for the linear classifiers (SVM and Softmax)."
   ]
  },
  {
   "cell_type": "markdown",
   "id": "fa2e6bf4",
   "metadata": {},
   "source": [
    "## Arduino Code repository\n",
    "\n",
    "\n",
    "[https://github.com/auralius/arduino-linear-classifier](https://github.com/auralius/arduino-linear-classifier)\n",
    "\n",
    "Check the folder with the following name: `usps_16by16`.\n",
    "\n",
    "![](./images/demo_16by16.gif)"
   ]
  },
  {
   "cell_type": "markdown",
   "id": "b6971c76",
   "metadata": {},
   "source": [
    "## Preparations"
   ]
  },
  {
   "cell_type": "markdown",
   "id": "71a55733",
   "metadata": {},
   "source": [
    "As usual, let's start with some preparations."
   ]
  },
  {
   "cell_type": "code",
   "execution_count": 11,
   "id": "744502c9",
   "metadata": {},
   "outputs": [],
   "source": [
    "import numpy as np\n",
    "import matplotlib.pyplot as plt\n",
    "\n",
    "plt.rcParams.update({\n",
    "    \"text.usetex\": False,\n",
    "    \"font.family\": \"sans-serif\",\n",
    "    \"font.size\": 10,\n",
    "})\n",
    "\n",
    "from utils import *\n",
    "\n",
    "np.set_printoptions(precision=5, suppress=True)"
   ]
  },
  {
   "cell_type": "markdown",
   "id": "521bedf1",
   "metadata": {},
   "source": [
    "Put the SVM class and the Softmax class here so that we can use them easily to train our classifier."
   ]
  },
  {
   "cell_type": "markdown",
   "id": "00339288",
   "metadata": {},
   "source": [
    "### The SVM class"
   ]
  },
  {
   "cell_type": "code",
   "execution_count": 12,
   "id": "749d34a0",
   "metadata": {},
   "outputs": [],
   "source": [
    "from numba import njit, prange\n",
    "\n",
    "class SVM():\n",
    "    @staticmethod\n",
    "    @njit(parallel=True, fastmath=True)\n",
    "    def svm_loss(W, X, Y, reg):\n",
    "        \"\"\"\n",
    "        Structured SVM loss function, naive implementation (with loops).\n",
    "\n",
    "        Inputs have dimension D, there are C classes, and we operate on minibatches\n",
    "        of N examples.\n",
    "\n",
    "        Inputs:\n",
    "        - W: A numpy array of shape (D+1, C) containing weights.\n",
    "        - X: A numpy array of shape (N, D) containing a minibatch of data.\n",
    "        - Y: A numpy array of shape (N,) containing training labels; y[i] = c means\n",
    "          that X[i] has label c, where 0 <= c < C.\n",
    "        - reg: (float) regularization strength\n",
    "\n",
    "        Returns a tuple of:\n",
    "        - loss: loss as single float\n",
    "        - dW: gradient with respect to weights W; an array of same shape as W\n",
    "\n",
    "        References:\n",
    "        - https://github.com/lightaime/cs231n\n",
    "        - https://github.com/mantasu/cs231n\n",
    "        - https://github.com/jariasf/CS231n\n",
    "\n",
    "        \"\"\"\n",
    "        X  = np.hstack((X, np.ones((X.shape[0],1)))) # the last column is 1: to allow augmentation of bias vector into W\n",
    "\n",
    "        dW = np.zeros(W.shape)  # initialize the gradient as zero\n",
    "\n",
    "        # compute the loss and the gradient\n",
    "        C = W.shape[1]\n",
    "        N = X.shape[0]\n",
    "        loss = 0.0\n",
    "\n",
    "        F = X@W\n",
    "        for i in prange(N):\n",
    "            Fi = F[i]\n",
    "            Fyi = Fi[Y[i]]\n",
    "            Li = Fi - Fyi + 1        # \n",
    "            Li[np.where(Li < 0)] = 0 # max(0, ...)\n",
    "            loss += np.sum(np.delete(Li, Y[i]))\n",
    "\n",
    "            for j in prange(C):         \n",
    "                if Li[j] > 0 and j != Y[i]:\n",
    "                    dW[:, j] += X[i]    # update gradient for incorrect label\n",
    "                    dW[:, Y[i]] -= X[i] # update gradient for correct label\n",
    "\n",
    "        loss  = loss / N + reg * np.sum(W * W) # add regularization to the loss.\n",
    "        dW = dW / N + 2 * reg * W # append partial derivative of regularization term\n",
    "\n",
    "        return loss, dW\n",
    "\n",
    "\n",
    "    @staticmethod\n",
    "    def svm_loss_vectorized(W, X, Y, reg):\n",
    "        \"\"\"\n",
    "        Structured SVM loss function, naive implementation (with loops).\n",
    "\n",
    "        Inputs have dimension D, there are C classes, and we operate on minibatches\n",
    "        of N examples.\n",
    "\n",
    "        Inputs:\n",
    "        - W: A numpy array of shape (D+1, C) containing weights.\n",
    "        - X: A numpy array of shape (N, D) containing a minibatch of data.\n",
    "        - Y: A numpy array of shape (N,) containing training labels; y[i] = c means\n",
    "          that X[i] has label c, where 0 <= c < C.\n",
    "        - reg: (float) regularization strength\n",
    "\n",
    "        Returns a tuple of:\n",
    "        - loss: loss as single float\n",
    "        - dW: gradient with respect to weights W; an array of same shape as W\n",
    "\n",
    "        References:\n",
    "        - https://github.com/lightaime/cs231n\n",
    "        - https://github.com/mantasu/cs231n\n",
    "        - https://github.com/jariasf/CS231n\n",
    "\n",
    "        \"\"\"\n",
    "        X  = np.hstack((X, np.ones((X.shape[0],1)))) # the last column is 1: to allow augmentation of bias vector into W\n",
    "        N = X.shape[0]\n",
    "\n",
    "        # scores\n",
    "        F  = X @ W\n",
    "\n",
    "        # Scores for correct labels\n",
    "        Fy = F[range(N), Y].reshape(-1,1)\n",
    "\n",
    "        # compute the loss\n",
    "        L  = F - Fy + 1\n",
    "        L  = np.clip(L, a_min=0, a_max=None) # max(0, ...)\n",
    "        L_ = L.copy() # keep the original\n",
    "        L[range(N) , Y] = 0 # exclude the correct labels\n",
    "        loss = np.sum(L) / N + reg * np.sum(W * W)\n",
    "\n",
    "        # compute the gradient\n",
    "        dW = (L_ > 0).astype(float) # positive for incorrect labels\n",
    "        dW[range(N), Y] = dW[range(N), Y] - dW.sum(axis=1) # negative for correct labels\n",
    "        dW = X.T @ dW / N + 2 * reg * W  # gradient with respect to W\n",
    "\n",
    "        return (loss, dW)\n",
    "      \n",
    "\n",
    "    def train(self, X, Y, learning_rate=1e-3, reg=1e-5, num_iters=100, batch_size=200, verbose=True, verbose_step=1000):\n",
    "        '''\n",
    "        Train this linear classifier using stochastic gradient descent. \n",
    "        Setting the 'batch_size=None\" turns of the stochastic feature.\n",
    "\n",
    "        Inputs:\n",
    "        - X: A numpy array of shape (N, D) containing training data; there are N\n",
    "          training samples each of dimension D.\n",
    "        - y: A numpy array of shape (N,) containing training labels; y[i] = c\n",
    "          means that X[i] has label 0 <= c < C for C classes.\n",
    "        - learning_rate: (float) learning rate for optimization.\n",
    "        - reg: (float) regularization strength.\n",
    "        - num_iters: (integer) number of steps to take when optimizing\n",
    "        - batch_size: (integer) number of training examples to use at each step.\n",
    "        - verbose: (boolean) If true, print progress during optimization.\n",
    "        - verbose_steps: (integer) print proress once every verbose_steps\n",
    "\n",
    "        Outputs:\n",
    "        A list containing the value of the loss function at each training iteration.\n",
    "        '''\n",
    "          \n",
    "        N, D = X.shape\n",
    "        C = len(np.unique(Y)) \n",
    "        \n",
    "        # lazily initialize W\n",
    "        self.W = 0.001 * np.random.randn(D + 1, C) # dim+1, to bias vector is augmented into W \n",
    "\n",
    "        # Run stochastic gradient descent to optimize W\n",
    "        loss_history = []\n",
    "        for it in range(num_iters):\n",
    "            X_batch = None\n",
    "            y_batch = None\n",
    "\n",
    "            # Sample batch_size elements from the training data and their           \n",
    "            # corresponding labels to use in this round of gradient descent.        \n",
    "            # Store the data in X_batch and their corresponding labels in           \n",
    "            # y_batch; after sampling X_batch should have shape (dim, batch_size)   \n",
    "            # and y_batch should have shape (batch_size,)                           \n",
    "            \n",
    "            if batch_size is not None:\n",
    "                batch_indices = np.random.choice(N, batch_size, replace=False)\n",
    "                X_batch = X[batch_indices]\n",
    "                y_batch = Y[batch_indices]\n",
    "                loss, grad = self.svm_loss_vectorized(self.W, X_batch, y_batch, reg)\n",
    "            else:\n",
    "                loss, grad = self.svm_loss_vectorized(self.W, X, Y, reg)\n",
    "            \n",
    "            loss_history.append(loss)\n",
    "\n",
    "            # Update the weights using the gradient and the learning rate.          \n",
    "            self.W = self.W - learning_rate * grad\n",
    "     \n",
    "            if verbose and it % verbose_step == 0 or it == num_iters - 1:\n",
    "                print('iteration %d / %d: loss %f' % (it, num_iters, loss), flush=True)\n",
    "\n",
    "        return loss_history\n",
    "    \n",
    "\n",
    "    def predict(self, X):\n",
    "        \"\"\"\n",
    "        Use the trained weights of this linear classifier to predict labels for\n",
    "        data points.\n",
    "\n",
    "        Inputs:\n",
    "        - X: A numpy array of shape (N, D) containing training data; there are N\n",
    "          training samples each of dimension D.\n",
    "\n",
    "        Returns:\n",
    "        - Y_pred: Predicted labels for the data in X. y_pred is a 1-dimensional\n",
    "          array of length N, and each element is an integer giving the predicted\n",
    "          class.\n",
    "        \"\"\"\n",
    "        \n",
    "        X  = np.hstack((X, np.ones((X.shape[0],1))))\n",
    "\n",
    "        Y_pred = np.zeros(X.shape[0])\n",
    "        scores = X @ self.W\n",
    "        Y_pred = scores.argmax(axis=1)\n",
    "\n",
    "        return Y_pred"
   ]
  },
  {
   "cell_type": "markdown",
   "id": "614667bb",
   "metadata": {},
   "source": [
    "### The Softmax class"
   ]
  },
  {
   "cell_type": "code",
   "execution_count": 13,
   "id": "ac1455bc",
   "metadata": {},
   "outputs": [],
   "source": [
    "from numba import njit, prange\n",
    "\n",
    "class Softmax():\n",
    "    @staticmethod\n",
    "    @njit(parallel=True, fastmath=True)\n",
    "    def softmax_loss(W, X, Y, reg):\n",
    "        \"\"\"\n",
    "        Inputs have dimension D, there are C classes, and we operate on minibatches\n",
    "        of N examples.\n",
    "\n",
    "        Inputs:\n",
    "        - W: A numpy array of shape (D+1, C) containing weights.\n",
    "        - X: A numpy array of shape (N, D) containing a minibatch of data.\n",
    "        - Y: A numpy array of shape (N,) containing training labels; Y[i] = c means\n",
    "          that X[i] has label c, where 0 <= c < C.\n",
    "        - reg: (float) regularization strength\n",
    "\n",
    "        Returns a tuple of:\n",
    "        - loss: loss as single float\n",
    "        - dW: gradient with respect to weights W; an array of same shape as W\n",
    "\n",
    "        References:\n",
    "        - https://github.com/lightaime/cs231n\n",
    "        - https://github.com/mantasu/cs231n\n",
    "        - https://github.com/jariasf/CS231n\n",
    "        \n",
    "        \"\"\"\n",
    "        # Initialize the loss and gradient to zero.\n",
    "        loss = 0.0\n",
    "        dW   = np.zeros_like(W)\n",
    "        \n",
    "        N = X.shape[0] # samples \n",
    "        C = W.shape[1] # classes\n",
    "        X = np.hstack((X, np.ones((N, 1)))) # the last column is 1: to allow augmentation of bias vector into W\n",
    "\n",
    "        F = X@W \n",
    "\n",
    "        # Softmax Loss\n",
    "        for i in prange(N):\n",
    "            Fi = F[i] - np.max(F[i])\n",
    "            expFi = np.exp(Fi)\n",
    "            softmax = expFi/np.sum(expFi) \n",
    "            loss += -np.log(softmax[Y[i]])\n",
    "\n",
    "            # Weight Gradients\n",
    "            for j in prange(C):\n",
    "                dW[:, j] += X[i] * softmax[j]\n",
    "            dW[:, Y[i]] -= X[i]\n",
    "\n",
    "        # Average and regulation\n",
    "        loss = loss /  N + reg * np.sum(W * W)\n",
    "        dW = dW / N + reg * 2 * W \n",
    "\n",
    "        return loss, dW\n",
    "    \n",
    "    \n",
    "    @staticmethod\n",
    "    def softmax_loss_vectorized(W, X, Y, reg):\n",
    "        \"\"\"\n",
    "        Inputs have dimension D, there are C classes, and we operate on minibatches\n",
    "        of N examples.\n",
    "\n",
    "        Inputs:\n",
    "        - W: A numpy array of shape (D+1, C) containing weights.\n",
    "        - X: A numpy array of shape (N, D) containing a minibatch of data.\n",
    "        - Y: A numpy array of shape (N,) containing training labels; Y[i] = c means\n",
    "          that X[i] has label c, where 0 <= c < C.\n",
    "        - reg: (float) regularization strength\n",
    "\n",
    "        Returns a tuple of:\n",
    "        - loss: loss as single float\n",
    "        - dW: gradient with respect to weights W; an array of same shape as W\n",
    "\n",
    "        References:\n",
    "        - https://github.com/lightaime/cs231n\n",
    "        - https://github.com/mantasu/cs231n\n",
    "        - https://github.com/jariasf/CS231n\n",
    "        \n",
    "        \"\"\"\n",
    "        # Initialize the loss and gradient to zero.\n",
    "        loss = 0.0\n",
    "        dW   = np.zeros_like(W)\n",
    "        \n",
    "        N = X.shape[0] # samples \n",
    "        C = W.shape[1] # classes\n",
    "        X = np.hstack((X, np.ones((N, 1)))) # the last column is 1: to allow augmentation of bias vector into W\n",
    "\n",
    "        F = X@W \n",
    "        \n",
    "        # Softmax Loss\n",
    "        F = F - np.max(F, axis=1).reshape(-1,1)\n",
    "        expF = np.exp(F)\n",
    "        softmax = expF/np.sum(expF, axis=1).reshape(-1,1) \n",
    "        loss = np.sum(-np.log(softmax[range(N),Y])) / N + reg * np.sum(W * W)\n",
    "\n",
    "        # derivative of the loss\n",
    "        softmax[range(N), Y] -= 1                  # update the softmax table\n",
    "        dW = X.T @ softmax / N + 2 * reg * W       # calculate gradient\n",
    "\n",
    "        return loss, dW\n",
    "\n",
    "    \n",
    "    def train(self, X, Y, learning_rate=1e-3, reg=1, num_iters=100, batch_size=200, verbose=True, verbose_step=1000):\n",
    "        '''\n",
    "        Train this linear classifier using stochastic gradient descent.\n",
    "        Setting the 'batch_size=None\" turns of the stochastic feature.\n",
    "\n",
    "        Inputs:\n",
    "        - X: A numpy array of shape (N, D) containing training data; there are N\n",
    "          training samples each of dimension D.\n",
    "        - Y: A numpy array of shape (N,) containing training labels; y[i] = c\n",
    "          means that X[i] has label 0 <= c < C for C classes.\n",
    "        - learning_rate: (float) learning rate for optimization.\n",
    "        - reg: (float) regularization strength.\n",
    "        - num_iters: (integer) number of steps to take when optimizing\n",
    "        - batch_size: (integer) number of training examples to use at each step.\n",
    "        - verbose: (boolean) If true, print progress during optimization.\n",
    "        - verbose_steps: (integer) print proress once every verbose_steps\n",
    "\n",
    "        Outputs:\n",
    "        A list containing the value of the loss function at each training iteration.\n",
    "        '''\n",
    "          \n",
    "        N, D = X.shape\n",
    "        C = len(np.unique(Y)) \n",
    "        \n",
    "        # lazily initialize W\n",
    "        self.W = 0.001 * np.random.randn(D+1, C) # dim+1, to bias vector is augmented into W \n",
    "\n",
    "        # Run stochastic gradient descent to optimize W\n",
    "        loss_history = []\n",
    "        for it in range(num_iters):\n",
    "            X_batch = None\n",
    "            y_batch = None\n",
    "\n",
    "            # Sample batch_size elements from the training data and their           \n",
    "            # corresponding labels to use in this round of gradient descent.        \n",
    "            # Store the data in X_batch and their corresponding labels in           \n",
    "            # y_batch; after sampling X_batch should have shape (dim, batch_size)   \n",
    "            # and y_batch should have shape (batch_size,)                           \n",
    "            \n",
    "            if batch_size is not None:\n",
    "              batch_indices = np.random.choice(N, batch_size, replace=False)\n",
    "              X_batch = X[batch_indices]\n",
    "              y_batch = Y[batch_indices]\n",
    "              loss, grad = self.softmax_loss_vectorized(self.W, X_batch, y_batch, reg)\n",
    "            else:\n",
    "              loss, grad = self.softmax_loss_vectorized(self.W, X, Y, reg)\n",
    "            \n",
    "            loss_history.append(loss)\n",
    "\n",
    "            # Update the weights using the gradient and the learning rate.          \n",
    "            self.W = self.W - learning_rate * grad\n",
    "     \n",
    "            if verbose and it % verbose_step == 0 or (it == num_iters - 1):\n",
    "                print('iteration %d / %d: loss %f' % (it, num_iters, loss), flush=True)\n",
    "\n",
    "        return loss_history\n",
    "    \n",
    "\n",
    "    def predict(self, X):\n",
    "        \"\"\"\n",
    "        Use the trained weights of this linear classifier to predict labels for\n",
    "        data points.\n",
    "\n",
    "        Inputs:\n",
    "        - X: A numpy array of shape (N, D) containing training data; there are N\n",
    "          training samples each of dimension D.\n",
    "\n",
    "        Returns:\n",
    "        - Y_pred: Predicted labels for the data in X. y_pred is a 1-dimensional\n",
    "          array of length N, and each element is an integer giving the predicted\n",
    "          class.\n",
    "        \"\"\"\n",
    "        \n",
    "        X  = np.hstack((X, np.ones((X.shape[0],1))))\n",
    "\n",
    "        Y_pred = np.zeros(X.shape[0])\n",
    "        scores = X @ self.W\n",
    "        Y_pred = scores.argmax(axis=1)\n",
    "\n",
    "        return Y_pred"
   ]
  },
  {
   "cell_type": "markdown",
   "id": "28c9bd97",
   "metadata": {},
   "source": [
    "## USPS Dataset"
   ]
  },
  {
   "cell_type": "markdown",
   "id": "d175d9ce",
   "metadata": {},
   "source": [
    "The USPS dataset is a little more suitable for our implementation then the MNIST dataset. Images in the USPS dataset are wrapped as tightly as possible inside their bounding boxes. Thus, every image is centered at the center of its bounding box. As for images in the MNIST dataset, they are not tightly wrapped. Each image is centered its center of mass. Finding center of mass of an image is considerably very resource demanding for a general low-cost microcontoller that we will use.\n",
    "\n",
    "The USPS dataset can be found here:\n",
    "\n",
    "https://www.csie.ntu.edu.tw/~cjlin/libsvmtools/datasets/multiclass.html#usps"
   ]
  },
  {
   "cell_type": "code",
   "execution_count": 14,
   "id": "1af98764",
   "metadata": {},
   "outputs": [
    {
     "name": "stdout",
     "output_type": "stream",
     "text": [
      "Training data\n",
      "Dimension numbers : 256\n",
      "Number of data    : 7291\n",
      "Labels            : [0 1 2 3 4 5 6 7 8 9]\n",
      "Test data\n",
      "Dimension numbers : 256\n",
      "Number of data    : 2007\n",
      "Labels            : [0 1 2 3 4 5 6 7 8 9]\n"
     ]
    }
   ],
   "source": [
    "import h5py\n",
    "with h5py.File(\"./datasets/usps/usps.h5\", 'r') as hf:\n",
    "    X_train = hf.get(\"train\").get('data')[:] * 255.0\n",
    "    Y_train = np.int32(hf.get(\"train\").get('target')[:]) \n",
    "\n",
    "    X_test = hf.get(\"test\").get('data')[:] * 255.0\n",
    "    Y_test = np.int32(hf.get(\"test\").get('target')[:]) \n",
    "\n",
    "print(\"Training data\")\n",
    "print(\"Dimension numbers :\", X_train.shape[1])\n",
    "print(\"Number of data    :\", X_train.shape[0])\n",
    "print(\"Labels            :\", np.unique(Y_train))\n",
    "\n",
    "print(\"Test data\")\n",
    "print(\"Dimension numbers :\", X_test.shape[1])\n",
    "print(\"Number of data    :\", X_test.shape[0])\n",
    "print(\"Labels            :\", np.unique(Y_test))"
   ]
  },
  {
   "cell_type": "code",
   "execution_count": 15,
   "id": "3ed4a173",
   "metadata": {},
   "outputs": [
    {
     "data": {
      "image/png": "[encoded data removed]",
      "text/plain": [
       "<Figure size 640x480 with 100 Axes>"
      ]
     },
     "metadata": {},
     "output_type": "display_data"
    }
   ],
   "source": [
    "for i in range(100):\n",
    "    X_train_ = X_train[i,:].reshape(16, 16)\n",
    "    X_train_ = np.abs(255.0 - X_train_)\n",
    "    plt.subplot(20, 10, i + 1)\n",
    "    # Rescale the weights to be between 0 and 255\n",
    "    plt.imshow(X_train_.astype('uint8'), cmap='Greys')\n",
    "    plt.axis('off')"
   ]
  },
  {
   "cell_type": "markdown",
   "id": "4b23112e",
   "metadata": {},
   "source": [
    "### Training"
   ]
  },
  {
   "cell_type": "markdown",
   "id": "2a7e7fdb",
   "metadata": {},
   "source": [
    "We are NOT going to use the stochastic version of the gradient descent method. Therefore, we set the `batch_size` to `None`."
   ]
  },
  {
   "cell_type": "code",
   "execution_count": 20,
   "id": "29d0f847",
   "metadata": {},
   "outputs": [
    {
     "name": "stdout",
     "output_type": "stream",
     "text": [
      "iteration 0 / 2000: loss 19.419819\n"
     ]
    },
    {
     "name": "stdout",
     "output_type": "stream",
     "text": [
      "iteration 1000 / 2000: loss 0.276519\n",
      "iteration 1999 / 2000: loss 0.216839\n"
     ]
    }
   ],
   "source": [
    "#classifier = Softmax() # using Softmax\n",
    "classifier = SVM()     # using linear SVM\n",
    "loss_hist = classifier.train(np.vstack((X_train, X_test)), np.hstack((Y_train, Y_test)), learning_rate=1e-6, reg=1e-1, batch_size=None, num_iters=2000, verbose_step=1000)"
   ]
  },
  {
   "cell_type": "code",
   "execution_count": 21,
   "id": "4e9ee0cc",
   "metadata": {},
   "outputs": [
    {
     "data": {
      "image/png": "[encoded data removed]",
      "text/plain": [
       "<Figure size 640x480 with 1 Axes>"
      ]
     },
     "metadata": {},
     "output_type": "display_data"
    }
   ],
   "source": [
    "plt.plot(loss_hist)\n",
    "plt.xlabel('Iteration number')\n",
    "plt.ylabel('Loss value')\n",
    "plt.show()"
   ]
  },
  {
   "cell_type": "markdown",
   "id": "2f6061cc",
   "metadata": {},
   "source": [
    "### Testing"
   ]
  },
  {
   "cell_type": "code",
   "execution_count": 22,
   "id": "88e663c6",
   "metadata": {},
   "outputs": [
    {
     "name": "stdout",
     "output_type": "stream",
     "text": [
      "training accuracy: 0.957756\n",
      "testing accuracy: 0.925760\n"
     ]
    }
   ],
   "source": [
    "Y_train_pred = classifier.predict(X_train)\n",
    "print('training accuracy: %f' % (np.mean(Y_train == Y_train_pred), ))\n",
    "\n",
    "Y_test_pred = classifier.predict(X_test)\n",
    "print('testing accuracy: %f' % (np.mean(Y_test == Y_test_pred), ))"
   ]
  },
  {
   "cell_type": "markdown",
   "id": "24e97c35",
   "metadata": {},
   "source": [
    "### Save the matrix"
   ]
  },
  {
   "cell_type": "markdown",
   "id": "6cb6ac80",
   "metadata": {},
   "source": [
    "All we need is only the `W` matrix. We need to store the flattended version of the matrix, thus, we add a comma at every end of a line."
   ]
  },
  {
   "cell_type": "code",
   "execution_count": 23,
   "id": "4a3dbd3d",
   "metadata": {},
   "outputs": [],
   "source": [
    "np.savetxt('W.txt', classifier.W.transpose(), delimiter='\\n', fmt='%.8f', newline='\\n')"
   ]
  },
  {
   "cell_type": "markdown",
   "id": "1b8982c0",
   "metadata": {},
   "source": [
    "Copy this matrix to the Arduino PROGMEM, inside a file named `matrix.h`."
   ]
  }
 ],
 "metadata": {
  "kernelspec": {
   "display_name": "ipykernel 3.12.4",
   "language": "python",
   "name": "py.3.12.4"
  },
  "language_info": {
   "codemirror_mode": {
    "name": "ipython",
    "version": 3
   },
   "file_extension": ".py",
   "mimetype": "text/x-python",
   "name": "python",
   "nbconvert_exporter": "python",
   "pygments_lexer": "ipython3",
   "version": "3.12.3"
  }
 },
 "nbformat": 4,
 "nbformat_minor": 5
}

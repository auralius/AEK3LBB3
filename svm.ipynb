{
 "cells": [
  {
   "cell_type": "markdown",
   "id": "c96c1290-5d85-4091-9b8c-d62a327b8e9e",
   "metadata": {},
   "source": [
    "# Linear Support Vector Machine"
   ]
  },
  {
   "cell_type": "markdown",
   "id": "bd8c67aa-88ec-47aa-8e4c-d5e774573d79",
   "metadata": {},
   "source": [
    "**This material is heavily based on the popular Standford CS231n lecture material.** [Please check on their website for more detailed information](https://cs231n.github.io/)."
   ]
  },
  {
   "cell_type": "code",
   "execution_count": 1,
   "id": "e26eb164-b0be-4131-bc19-a9133d8108f3",
   "metadata": {},
   "outputs": [],
   "source": [
    "import numpy as np\n",
    "import matplotlib.pyplot as plt\n",
    "\n",
    "plt.rcParams.update({\n",
    "    \"text.usetex\": True,\n",
    "    \"font.family\": \"Times\",\n",
    "    \"font.size\": 10,\n",
    "})\n",
    "\n",
    "from utils import *"
   ]
  },
  {
   "cell_type": "markdown",
   "id": "4a221dbf",
   "metadata": {},
   "source": [
    "## Class SVM\n",
    "\n",
    "This is the implementation of the linear SVM:\n",
    "* There two metods: `train(X, y)` and `y = predict(X)`.\n",
    "* Matrix `self.W` also includes the bias vector ([bias tricks](https://cs231n.github.io/linear-classify/#interpreting-a-linear-classifier)).\n",
    "* There are some additoinal parameters for training (hyperparameters).\n",
    "* Training is done by using stochastic gradient descent method."
   ]
  },
  {
   "cell_type": "code",
   "execution_count": 2,
   "id": "b0b485a5-d495-48ed-ab6f-fcbd5bbe8d8f",
   "metadata": {},
   "outputs": [],
   "source": [
    "class SVM():\n",
    "    def train(self, X, y, learning_rate=1e-3, reg=1e-5, num_iters=100, batch_size=200, verbose=True):\n",
    "        '''\n",
    "        Train this linear classifier using stochastic gradient descent.\n",
    "\n",
    "        Inputs:\n",
    "        - X: A numpy array of shape (N, D) containing training data; there are N\n",
    "          training samples each of dimension D.\n",
    "        - y: A numpy array of shape (N,) containing training labels; y[i] = c\n",
    "          means that X[i] has label 0 <= c < C for C classes.\n",
    "        - learning_rate: (float) learning rate for optimization.\n",
    "        - reg: (float) regularization strength.\n",
    "        - num_iters: (integer) number of steps to take when optimizing\n",
    "        - batch_size: (integer) number of training examples to use at each step.\n",
    "        - verbose: (boolean) If true, print progress during optimization.\n",
    "\n",
    "        Outputs:\n",
    "        A list containing the value of the loss function at each training iteration.\n",
    "        '''\n",
    "          \n",
    "        num_train, dim = X.shape\n",
    "        num_classes = len(np.unique(y)) \n",
    "        \n",
    "        # lazily initialize W\n",
    "        self.W = 0.001 * np.random.randn(dim + 1, num_classes) # dim+1, to bias vector is augmented into W \n",
    "\n",
    "        # Run stochastic gradient descent to optimize W\n",
    "        loss_history = []\n",
    "        for it in range(num_iters):\n",
    "            X_batch = None\n",
    "            y_batch = None\n",
    "\n",
    "            # Sample batch_size elements from the training data and their           \n",
    "            # corresponding labels to use in this round of gradient descent.        \n",
    "            # Store the data in X_batch and their corresponding labels in           \n",
    "            # y_batch; after sampling X_batch should have shape (dim, batch_size)   \n",
    "            # and y_batch should have shape (batch_size,)                           \n",
    "            \n",
    "            batch_indices = np.random.choice(num_train, batch_size, replace=False)\n",
    "            X_batch = X[batch_indices]\n",
    "            y_batch = y[batch_indices]\n",
    "            \n",
    "            # evaluate loss and gradient\n",
    "            loss, grad = svm_loss(self.W, X_batch, y_batch, reg)\n",
    "            loss_history.append(loss)\n",
    "\n",
    "            # Update the weights using the gradient and the learning rate.          \n",
    "            self.W = self.W - learning_rate * grad\n",
    "     \n",
    "            if verbose and it % 1000 == 0:\n",
    "                print('iteration %d / %d: loss %f' % (it, num_iters, loss))\n",
    "\n",
    "        return loss_history\n",
    "    \n",
    "\n",
    "    def predict(self, X):\n",
    "        \"\"\"\n",
    "        Use the trained weights of this linear classifier to predict labels for\n",
    "        data points.\n",
    "\n",
    "        Inputs:\n",
    "        - X: A numpy array of shape (N, D) containing training data; there are N\n",
    "          training samples each of dimension D.\n",
    "\n",
    "        Returns:\n",
    "        - y_pred: Predicted labels for the data in X. y_pred is a 1-dimensional\n",
    "          array of length N, and each element is an integer giving the predicted\n",
    "          class.\n",
    "        \"\"\"\n",
    "        \n",
    "        X  = np.hstack((X, np.ones((X.shape[0],1))))\n",
    "\n",
    "        y_pred = np.zeros(X.shape[0])\n",
    "        scores = X.dot(self.W)\n",
    "        y_pred = scores.argmax(axis=1)\n",
    "\n",
    "        return y_pred"
   ]
  },
  {
   "cell_type": "markdown",
   "id": "1de966bf",
   "metadata": {},
   "source": [
    "## Breast Cancer Wisconsin\n",
    "\n",
    "This dataset is publicly available and can be downloaded from [this link](https://archive.ics.uci.edu/dataset/17/breast+cancer+wisconsin+diagnostic).\n",
    "\n",
    "[This dataset is also available as one of scikit-learn example datasets](https://scikit-learn.org/1.5/modules/generated/sklearn.datasets.load_breast_cancer.html#sklearn.datasets.load_breast_cancer\n",
    ")."
   ]
  },
  {
   "cell_type": "markdown",
   "id": "fbb01b45",
   "metadata": {},
   "source": [
    "The original labels are characters: `M` and `B`. For the SVM to work, the labels must be numbers. Hence, we change the labels:\n",
    "* `M` is replaced with `1`\n",
    "* `B` is replaced with `0`"
   ]
  },
  {
   "cell_type": "markdown",
   "id": "46c6c3f5-7e2a-4536-82fc-f2025023cc06",
   "metadata": {},
   "source": [
    "### Load the Dataset"
   ]
  },
  {
   "cell_type": "code",
   "execution_count": 3,
   "id": "0d51e722",
   "metadata": {},
   "outputs": [
    {
     "name": "stdout",
     "output_type": "stream",
     "text": [
      "Dimension numbers : 10\n",
      "Number of data    : 569\n",
      "Labels            : [0 1]\n"
     ]
    }
   ],
   "source": [
    "data = np.loadtxt(\"./datasets/breast_cancer/wdbc.data\", delimiter=\",\", dtype=str)\n",
    "X = np.float32(data[:, 2:12])  # 10 dimensions\n",
    "\n",
    "# Diagnosis (M = malignant, B = benign)\n",
    "y = np.zeros(X.shape[0], dtype=np.int32) \n",
    "y[np.where(data[:,1]=='M')] = 1\n",
    "y[np.where(data[:,1]=='B')] = 0\n",
    "\n",
    "print(\"Dimension numbers :\", X.shape[1])\n",
    "print(\"Number of data    :\", X.shape[0])\n",
    "print(\"Labels            :\", np.unique(y))"
   ]
  },
  {
   "cell_type": "markdown",
   "id": "feba5526-e5d3-4803-8ed6-de2cc0b6e49a",
   "metadata": {},
   "source": [
    "### Split The Dataset for Training and Test"
   ]
  },
  {
   "cell_type": "code",
   "execution_count": 4,
   "id": "7ca1bf45",
   "metadata": {},
   "outputs": [],
   "source": [
    "X_train = X[0:400, :]\n",
    "y_train = y[0:400]\n",
    "X_test  = X[401:, :]\n",
    "y_test  = y[401:]\n",
    "\n",
    "num_test = X_test.shape[0]"
   ]
  },
  {
   "cell_type": "markdown",
   "id": "3dda0429-009b-4d5f-a52f-5487d91c7d22",
   "metadata": {},
   "source": [
    "### Train the Classifier"
   ]
  },
  {
   "cell_type": "code",
   "execution_count": 5,
   "id": "e0389410",
   "metadata": {},
   "outputs": [
    {
     "name": "stdout",
     "output_type": "stream",
     "text": [
      "iteration 0 / 10000: loss 1.130699\n",
      "iteration 1000 / 10000: loss 0.710799\n",
      "iteration 2000 / 10000: loss 0.453187\n",
      "iteration 3000 / 10000: loss 0.424181\n",
      "iteration 4000 / 10000: loss 0.420146\n",
      "iteration 5000 / 10000: loss 0.404989\n",
      "iteration 6000 / 10000: loss 0.390230\n",
      "iteration 7000 / 10000: loss 0.395863\n",
      "iteration 8000 / 10000: loss 0.357799\n",
      "iteration 9000 / 10000: loss 0.351813\n"
     ]
    }
   ],
   "source": [
    "classifier = SVM()\n",
    "loss_hist = classifier.train(X_train, y_train, learning_rate=1e-6,batch_size=200, reg=0.1, num_iters=10000)"
   ]
  },
  {
   "cell_type": "markdown",
   "id": "4347aaee-fa12-4fc8-bdaa-dcb19f8469f9",
   "metadata": {},
   "source": [
    "### Plot the Loss\n",
    "\n",
    "Plot the loss as a function of iteration number."
   ]
  },
  {
   "cell_type": "code",
   "execution_count": 6,
   "id": "9446e7be",
   "metadata": {},
   "outputs": [
    {
     "data": {
      "image/png": "[encoded data removed]",
      "text/plain": [
       "<Figure size 640x480 with 1 Axes>"
      ]
     },
     "metadata": {},
     "output_type": "display_data"
    }
   ],
   "source": [
    "# A useful debugging strategy is to plot the loss as a function of\n",
    "# iteration number:\n",
    "plt.plot(loss_hist)\n",
    "plt.xlabel('Iteration number')\n",
    "plt.ylabel('Loss value')\n",
    "plt.show()"
   ]
  },
  {
   "cell_type": "markdown",
   "id": "8574c0eb-8d3e-4adb-ad31-3d13c3708272",
   "metadata": {},
   "source": [
    "### Test the Classifier"
   ]
  },
  {
   "cell_type": "code",
   "execution_count": 7,
   "id": "0c70c23d",
   "metadata": {},
   "outputs": [
    {
     "name": "stdout",
     "output_type": "stream",
     "text": [
      "training accuracy: 0.850000\n",
      "validation accuracy: 0.916667\n"
     ]
    }
   ],
   "source": [
    "# Write the LinearSVM.predict function and evaluate the performance on both the\n",
    "# training and validation set\n",
    "y_train_pred = classifier.predict(X_train)\n",
    "print('training accuracy: %f' % (np.mean(y_train == y_train_pred), ))\n",
    "y_test_pred = classifier.predict(X_test)\n",
    "print('validation accuracy: %f' % (np.mean(y_test == y_test_pred), ))"
   ]
  },
  {
   "cell_type": "markdown",
   "id": "c673a0fc",
   "metadata": {},
   "source": [
    "## Handwritten Digits"
   ]
  },
  {
   "cell_type": "markdown",
   "id": "3fe3f365",
   "metadata": {},
   "source": [
    "This dataset is publicly available and can be downloaded from [this link](https://archive.ics.uci.edu/dataset/80/optical+recognition+of+handwritten+digits)."
   ]
  },
  {
   "cell_type": "markdown",
   "id": "50425d04",
   "metadata": {},
   "source": [
    "### Training Data"
   ]
  },
  {
   "cell_type": "code",
   "execution_count": 8,
   "id": "86a19e2b",
   "metadata": {},
   "outputs": [
    {
     "name": "stdout",
     "output_type": "stream",
     "text": [
      "Dimension numbers : 64\n",
      "Number of data    : 3823\n",
      "Labels            : [0 1 2 3 4 5 6 7 8 9]\n"
     ]
    }
   ],
   "source": [
    "data = np.loadtxt(\"./datasets/handwritten_digits/optdigits.tra\", delimiter=\",\", dtype=int)\n",
    "X_train = np.int32(data[:, 0:-1])  \n",
    "y_train = np.int32(data[:, -1]) \n",
    "\n",
    "print(\"Dimension numbers :\", X_train.shape[1])\n",
    "print(\"Number of data    :\", X_train.shape[0])\n",
    "print(\"Labels            :\", np.unique(y_train))"
   ]
  },
  {
   "cell_type": "markdown",
   "id": "26719ea8",
   "metadata": {},
   "source": [
    "### Test Data"
   ]
  },
  {
   "cell_type": "code",
   "execution_count": 9,
   "id": "3f7f828f",
   "metadata": {},
   "outputs": [
    {
     "name": "stdout",
     "output_type": "stream",
     "text": [
      "Dimension numbers : 64\n",
      "Number of data    : 1797\n",
      "Labels            : [0 1 2 3 4 5 6 7 8 9]\n"
     ]
    }
   ],
   "source": [
    "data = np.loadtxt(\"./datasets/handwritten_digits/optdigits.tes\", delimiter=\",\", dtype=int)\n",
    "X_test = np.int32(data[:, 0:-1])  \n",
    "y_test = np.int32(data[:, -1]) \n",
    "\n",
    "print(\"Dimension numbers :\", X_test.shape[1])\n",
    "print(\"Number of data    :\", X_test.shape[0])\n",
    "print(\"Labels            :\", np.unique(y_test))"
   ]
  },
  {
   "cell_type": "markdown",
   "id": "228b23e6",
   "metadata": {},
   "source": [
    "### Train the Classifier"
   ]
  },
  {
   "cell_type": "code",
   "execution_count": 10,
   "id": "94863d8a",
   "metadata": {},
   "outputs": [
    {
     "name": "stdout",
     "output_type": "stream",
     "text": [
      "iteration 0 / 10000: loss 8.907308\n",
      "iteration 1000 / 10000: loss 0.657698\n",
      "iteration 2000 / 10000: loss 0.401396\n",
      "iteration 3000 / 10000: loss 0.369527\n",
      "iteration 4000 / 10000: loss 0.274260\n",
      "iteration 5000 / 10000: loss 0.259376\n",
      "iteration 6000 / 10000: loss 0.262630\n",
      "iteration 7000 / 10000: loss 0.289198\n",
      "iteration 8000 / 10000: loss 0.224700\n",
      "iteration 9000 / 10000: loss 0.252929\n"
     ]
    }
   ],
   "source": [
    "classifier = SVM()\n",
    "loss_hist = classifier.train(X_train, y_train, learning_rate=1e-5,batch_size=500, num_iters=10000)"
   ]
  },
  {
   "cell_type": "markdown",
   "id": "fae4657e-182e-45a2-acb4-4ebc694a8973",
   "metadata": {},
   "source": [
    "### Plot the Loss\n",
    "\n",
    "Plot the loss as a function of iteration number."
   ]
  },
  {
   "cell_type": "code",
   "execution_count": 11,
   "id": "697af6bb",
   "metadata": {},
   "outputs": [
    {
     "data": {
      "image/png": "[encoded data removed]",
      "text/plain": [
       "<Figure size 640x480 with 1 Axes>"
      ]
     },
     "metadata": {},
     "output_type": "display_data"
    }
   ],
   "source": [
    "plt.plot(loss_hist)\n",
    "plt.xlabel('Iteration number')\n",
    "plt.ylabel('Loss value')\n",
    "plt.show()"
   ]
  },
  {
   "cell_type": "markdown",
   "id": "de7d374c",
   "metadata": {},
   "source": [
    "### Test the Classifier"
   ]
  },
  {
   "cell_type": "code",
   "execution_count": 12,
   "id": "210a6149",
   "metadata": {},
   "outputs": [
    {
     "name": "stdout",
     "output_type": "stream",
     "text": [
      "training accuracy: 0.960764\n",
      "validation accuracy: 0.929883\n"
     ]
    }
   ],
   "source": [
    "# Write the LinearSVM.predict function and evaluate the performance on both the\n",
    "# training and validation set\n",
    "y_train_pred = classifier.predict(X_train)\n",
    "print('training accuracy: %f' % (np.mean(y_train == y_train_pred), ))\n",
    "y_test_pred = classifier.predict(X_test)\n",
    "print('validation accuracy: %f' % (np.mean(y_test == y_test_pred), ))"
   ]
  },
  {
   "cell_type": "markdown",
   "id": "e9853e54",
   "metadata": {},
   "source": [
    "### Visualize the Learned Weights\n",
    "* Take matrix `W` and strip out the bias. \n",
    "* For each class, reshape the matrix back into 2D arrays\n",
    "* Plot the 2D arrays (matrices) as images."
   ]
  },
  {
   "cell_type": "code",
   "execution_count": 13,
   "id": "2d7175ee",
   "metadata": {},
   "outputs": [
    {
     "data": {
      "image/png": "[encoded data removed]",
      "text/plain": [
       "<Figure size 640x480 with 10 Axes>"
      ]
     },
     "metadata": {},
     "output_type": "display_data"
    }
   ],
   "source": [
    "w = classifier.W[:-1, :] # strip out the bias\n",
    "w = w.reshape(8, 8, 10)\n",
    "w_min, w_max = np.min(w), np.max(w)\n",
    "classes = ['0', '1', '2', '3', '4', '5', '6', '7', '8', '9']\n",
    "for i in range(10):\n",
    "    plt.subplot(2, 5, i + 1)\n",
    "      \n",
    "    # Rescale the weights to be between 0 and 255\n",
    "    wimg = 255.0 * (w[:, :, i].squeeze() - w_min) / (w_max - w_min)\n",
    "    plt.imshow(wimg.astype('uint8'), cmap='Greys')\n",
    "    plt.axis('off')\n",
    "    plt.title(classes[i])"
   ]
  }
 ],
 "metadata": {
  "kernelspec": {
   "display_name": "ipykernel 3.12.4",
   "language": "python",
   "name": "py.3.12.4"
  },
  "language_info": {
   "codemirror_mode": {
    "name": "ipython",
    "version": 3
   },
   "file_extension": ".py",
   "mimetype": "text/x-python",
   "name": "python",
   "nbconvert_exporter": "python",
   "pygments_lexer": "ipython3",
   "version": "3.12.3"
  }
 },
 "nbformat": 4,
 "nbformat_minor": 5
}

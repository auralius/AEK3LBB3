{
 "cells": [
  {
   "cell_type": "markdown",
   "id": "c96c1290-5d85-4091-9b8c-d62a327b8e9e",
   "metadata": {},
   "source": [
    "# Linear Support Vector Machine"
   ]
  },
  {
   "cell_type": "markdown",
   "id": "bd8c67aa-88ec-47aa-8e4c-d5e774573d79",
   "metadata": {},
   "source": [
    "**This material is heavily based on the popular Standford CS231n lecture material.** [Please check on their website for more detailed information](https://cs231n.github.io/)."
   ]
  },
  {
   "cell_type": "code",
   "execution_count": 1,
   "id": "e26eb164-b0be-4131-bc19-a9133d8108f3",
   "metadata": {},
   "outputs": [],
   "source": [
    "import numpy as np\n",
    "import matplotlib.pyplot as plt\n",
    "\n",
    "plt.rcParams.update({\n",
    "    \"text.usetex\": True,\n",
    "    \"font.family\": \"sans-serif\",\n",
    "    \"font.size\": 10,\n",
    "})\n",
    "\n",
    "from utils import *\n",
    "\n",
    "np.set_printoptions(precision=5, suppress=True)\n"
   ]
  },
  {
   "cell_type": "markdown",
   "id": "4a221dbf",
   "metadata": {},
   "source": [
    "## Class SVM\n",
    "\n",
    "This is the Python class implementation of the linear SVM:\n",
    "* There two metods: `train(X, Y)` and `Y = predict(X)`.\n",
    "* Matrix `self.W` also includes the bias vector ([bias tricks](https://cs231n.github.io/linear-classify/#interpreting-a-linear-classifier)).\n",
    "* Training is done by using __stochastic gradient descent method__ or **gradient descent method**."
   ]
  },
  {
   "cell_type": "markdown",
   "id": "f00c8a6c",
   "metadata": {},
   "source": [
    "Let us define the score function as linear combination of all feature values.\n",
    "\n",
    "$ F = X W $\n",
    "\n",
    "$L_i = \\sum_{j \\neq Y_i} \\max(0, F_{i,j}-F_{i,Y_i} + 1)$\n",
    "\n",
    "$ L=\\underbrace{\\frac{1}{N} \\sum_{i=1}^N L_{i}}_{\\text {data loss }}+\\underbrace{\\lambda R(W)}_{\\text {regularization loss }} $\n",
    "\n",
    "$ R(W) = \\sum_{k=1}^C \\sum_{l=1}^{D+1} W_{l, k}^{2} $\n",
    "\n",
    "where:\n",
    "- the dataset contains $N$ samples of data\n",
    "- each sample has $D$ features (dimensionalities) and $C$ labels/classes (distinct categories)\n",
    "- $X \\in \\mathbb{R}^{N \\times (D+1)}$ contains the features from N samples of data\n",
    "- $X_i \\in \\mathbb{R}^{D+1}$ contains the features of the $i$-th sample ($i$-th row of $X$)\n",
    "- $Y \\in \\mathbb{R}^{N}$ contains the correct classes from N samples of data\n",
    "- $Y_i \\in \\mathbb{R}$ contains the correct class of the $i$-th sample ($i$-th row of $Y$)\n",
    "- $F_{i,j} \\in \\mathbb{R}$ is the score for $i$-th sample and $j$-th class ($i$-th row and $j$-th column)\n",
    "- $F_{i,Y_i} \\in \\mathbb{R}$ is the score for the correct class of $i$-th sample\n",
    "- $L \\in \\mathbb{R}$ is the total loss\n",
    "- $L_i \\in \\mathbb{R}$ is the loss of $i$-th sample\n",
    "- $W \\in \\mathbb{R}^{(D+1) \\times C}$ is the weight matrix (with augmented bias vector in the last row)\n",
    "- $R \\in \\mathbb{R}$ is the regularization loss\n",
    "\n",
    "**Note:** the words \"label\" and \"class\" have similar meaning!"
   ]
  },
  {
   "cell_type": "code",
   "execution_count": null,
   "id": "b0b485a5-d495-48ed-ab6f-fcbd5bbe8d8f",
   "metadata": {},
   "outputs": [],
   "source": [
    "class SVM():\n",
    "    @staticmethod\n",
    "    @njit(parallel=True, fastmath=True)\n",
    "    def svm_loss(W, X, Y, reg):\n",
    "        \"\"\"\n",
    "        Structured SVM loss function, naive implementation (with loops).\n",
    "\n",
    "        Inputs have dimension D, there are C classes, and we operate on minibatches\n",
    "        of N examples.\n",
    "\n",
    "        Inputs:\n",
    "        - W: A numpy array of shape (D+1, C) containing weights.\n",
    "        - X: A numpy array of shape (N, D) containing a minibatch of data.\n",
    "        - Y: A numpy array of shape (N,) containing training labels; y[i] = c means\n",
    "          that X[i] has label c, where 0 <= c < C.\n",
    "        - reg: (float) regularization strength\n",
    "\n",
    "        Returns a tuple of:\n",
    "        - loss: loss as single float\n",
    "        - dW: gradient with respect to weights W; an array of same shape as W\n",
    "\n",
    "        References:\n",
    "        - https://github.com/lightaime/cs231n\n",
    "        - https://github.com/mantasu/cs231n\n",
    "        - https://github.com/jariasf/CS231n\n",
    "\n",
    "        \"\"\"\n",
    "        X  = np.hstack((X, np.ones((X.shape[0],1)))) # the last column is 1: to allow augmentation of bias vector into W\n",
    "\n",
    "        dW = np.zeros(W.shape)  # initialize the gradient as zero\n",
    "\n",
    "        # compute the loss and the gradient\n",
    "        C = W.shape[1]\n",
    "        N = X.shape[0]\n",
    "        loss = 0.0\n",
    "\n",
    "        F = X@W\n",
    "        for i in prange(N):\n",
    "            Fi = F[i]\n",
    "            Fyi = Fi[Y[i]]\n",
    "            Li = Fi - Fyi + 1        # \n",
    "            Li[np.where(Li < 0)] = 0 # max(0, ...)\n",
    "            loss += np.sum(np.delete(Li, Y[i]))\n",
    "\n",
    "            for j in prange(C):         \n",
    "                if Li[j] > 0 and j != Y[i]:\n",
    "                    dW[:, j] += X[i]    # update gradient for incorrect label\n",
    "                    dW[:, Y[i]] -= X[i] # update gradient for correct label\n",
    "\n",
    "        loss  = loss / N + reg * np.sum(W * W) # add regularization to the loss.\n",
    "        dW = dW / N + 2 * reg * W # append partial derivative of regularization term\n",
    "\n",
    "        return loss, dW\n",
    "\n",
    "\n",
    "    @staticmethod\n",
    "    def svm_loss_vectorized(W, X, Y, reg):\n",
    "        \"\"\"\n",
    "        Structured SVM loss function, naive implementation (with loops).\n",
    "\n",
    "        Inputs have dimension D, there are C classes, and we operate on minibatches\n",
    "        of N examples.\n",
    "\n",
    "        Inputs:\n",
    "        - W: A numpy array of shape (D+1, C) containing weights.\n",
    "        - X: A numpy array of shape (N, D) containing a minibatch of data.\n",
    "        - Y: A numpy array of shape (N,) containing training labels; y[i] = c means\n",
    "          that X[i] has label c, where 0 <= c < C.\n",
    "        - reg: (float) regularization strength\n",
    "\n",
    "        Returns a tuple of:\n",
    "        - loss: loss as single float\n",
    "        - dW: gradient with respect to weights W; an array of same shape as W\n",
    "\n",
    "        References:\n",
    "        - https://github.com/lightaime/cs231n\n",
    "        - https://github.com/mantasu/cs231n\n",
    "        - https://github.com/jariasf/CS231n\n",
    "\n",
    "        \"\"\"\n",
    "        X  = np.hstack((X, np.ones((X.shape[0],1)))) # the last column is 1: to allow augmentation of bias vector into W\n",
    "        N = X.shape[0]\n",
    "\n",
    "        # scores\n",
    "        F  = X @ W\n",
    "\n",
    "        # Scores for correct labels\n",
    "        Fy = F[range(N), Y].reshape(-1,1)\n",
    "\n",
    "        # compute the loss\n",
    "        L  = F - Fy + 1\n",
    "        L  = np.clip(L, a_min=0, a_max=None) # max(0, ...)\n",
    "        L_ = L.copy() # keep the original\n",
    "        L[range(N) , Y] = 0 # exclude the correct labels\n",
    "        loss = np.sum(L) / N + reg * np.sum(W * W)\n",
    "\n",
    "        # compute the gradient\n",
    "        dW = (L_ > 0).astype(float) # positive for incorrect labels\n",
    "        dW[range(N), Y] = dW[range(N), Y] - dW.sum(axis=1) # negative for correct labels\n",
    "        dW = X.T @ dW / N + 2 * reg * W  # gradient with respect to W\n",
    "\n",
    "        return (loss, dW)\n",
    "      \n",
    "\n",
    "    def train(self, X, Y, learning_rate=1e-3, reg=1e-5, num_iters=100, batch_size=200, verbose=True, verbose_step=1000):\n",
    "        '''\n",
    "        Train this linear classifier using stochastic gradient descent. \n",
    "        Setting the 'batch_size=None\" turns of the stochastic feature.\n",
    "\n",
    "        Inputs:\n",
    "        - X: A numpy array of shape (N, D) containing training data; there are N\n",
    "          training samples each of dimension D.\n",
    "        - y: A numpy array of shape (N,) containing training labels; y[i] = c\n",
    "          means that X[i] has label 0 <= c < C for C classes.\n",
    "        - learning_rate: (float) learning rate for optimization.\n",
    "        - reg: (float) regularization strength.\n",
    "        - num_iters: (integer) number of steps to take when optimizing\n",
    "        - batch_size: (integer) number of training examples to use at each step.\n",
    "        - verbose: (boolean) If true, print progress during optimization.\n",
    "        - verbose_steps: (integer) print proress once every verbose_steps\n",
    "\n",
    "        Outputs:\n",
    "        A list containing the value of the loss function at each training iteration.\n",
    "        '''\n",
    "          \n",
    "        N, D = X.shape\n",
    "        C = len(np.unique(Y)) \n",
    "        \n",
    "        # lazily initialize W\n",
    "        self.W = 0.001 * np.random.randn(D + 1, C) # dim+1, to bias vector is augmented into W \n",
    "\n",
    "        # Run stochastic gradient descent to optimize W\n",
    "        loss_history = []\n",
    "        for it in range(num_iters):\n",
    "            X_batch = None\n",
    "            y_batch = None\n",
    "\n",
    "            # Sample batch_size elements from the training data and their           \n",
    "            # corresponding labels to use in this round of gradient descent.        \n",
    "            # Store the data in X_batch and their corresponding labels in           \n",
    "            # y_batch; after sampling X_batch should have shape (dim, batch_size)   \n",
    "            # and y_batch should have shape (batch_size,)                           \n",
    "            \n",
    "            if batch_size is not None:\n",
    "                batch_indices = np.random.choice(N, batch_size, replace=False)\n",
    "                X_batch = X[batch_indices]\n",
    "                y_batch = Y[batch_indices]\n",
    "                loss, grad = self.svm_loss_vectorized(self.W, X_batch, y_batch, reg)\n",
    "            else:\n",
    "                loss, grad = self.svm_loss_vectorized(self.W, X, Y, reg)\n",
    "            \n",
    "            loss_history.append(loss)\n",
    "\n",
    "            # Update the weights using the gradient and the learning rate.          \n",
    "            self.W = self.W - learning_rate * grad\n",
    "     \n",
    "            if verbose and it % verbose_step == 0 or it == num_iters - 1:\n",
    "                print('iteration %d / %d: loss %f' % (it, num_iters, loss), flush=True)\n",
    "\n",
    "        return loss_history\n",
    "    \n",
    "\n",
    "    def predict(self, X):\n",
    "        \"\"\"\n",
    "        Use the trained weights of this linear classifier to predict labels for\n",
    "        data points.\n",
    "\n",
    "        Inputs:\n",
    "        - X: A numpy array of shape (N, D) containing training data; there are N\n",
    "          training samples each of dimension D.\n",
    "\n",
    "        Returns:\n",
    "        - Y_pred: Predicted labels for the data in X. y_pred is a 1-dimensional\n",
    "          array of length N, and each element is an integer giving the predicted\n",
    "          class.\n",
    "        \"\"\"\n",
    "        \n",
    "        X  = np.hstack((X, np.ones((X.shape[0],1))))\n",
    "\n",
    "        Y_pred = np.zeros(X.shape[0])\n",
    "        scores = X @ self.W\n",
    "        Y_pred = scores.argmax(axis=1)\n",
    "\n",
    "        return Y_pred"
   ]
  },
  {
   "cell_type": "markdown",
   "id": "1de966bf",
   "metadata": {},
   "source": [
    "## Breast Cancer Wisconsin\n",
    "\n",
    "This dataset is publicly available and can be downloaded from [this link](https://archive.ics.uci.edu/dataset/17/breast+cancer+wisconsin+diagnostic).\n",
    "\n",
    "[This dataset is also available as one of scikit-learn example datasets](https://scikit-learn.org/1.5/modules/generated/sklearn.datasets.load_breast_cancer.html#sklearn.datasets.load_breast_cancer\n",
    ")."
   ]
  },
  {
   "cell_type": "markdown",
   "id": "fbb01b45",
   "metadata": {},
   "source": [
    "The original labels are characters: `M` and `B`. For the SVM to work, the labels must be numbers. Hence, we change the labels:\n",
    "* `M` is replaced with `1`\n",
    "* `B` is replaced with `0`"
   ]
  },
  {
   "cell_type": "markdown",
   "id": "46c6c3f5-7e2a-4536-82fc-f2025023cc06",
   "metadata": {},
   "source": [
    "### Load the Dataset"
   ]
  },
  {
   "cell_type": "code",
   "execution_count": 88,
   "id": "0d51e722",
   "metadata": {},
   "outputs": [
    {
     "name": "stdout",
     "output_type": "stream",
     "text": [
      "Dimension numbers : 10\n",
      "Number of data    : 569\n",
      "Labels            : [0 1]\n"
     ]
    }
   ],
   "source": [
    "data = np.loadtxt(\"./datasets/breast_cancer/wdbc.data\", delimiter=\",\", dtype=str)\n",
    "X = np.float32(data[:, 2:12])  # 10 dimensions\n",
    "\n",
    "# Diagnosis (M = malignant, B = benign)\n",
    "Y = np.zeros(X.shape[0], dtype=np.int32) \n",
    "Y[np.where(data[:,1]=='M')] = 1\n",
    "Y[np.where(data[:,1]=='B')] = 0\n",
    "\n",
    "print(\"Dimension numbers :\", X.shape[1])\n",
    "print(\"Number of data    :\", X.shape[0])\n",
    "print(\"Labels            :\", np.unique(Y))"
   ]
  },
  {
   "cell_type": "markdown",
   "id": "feba5526-e5d3-4803-8ed6-de2cc0b6e49a",
   "metadata": {},
   "source": [
    "### Split The Dataset for Training and Test"
   ]
  },
  {
   "cell_type": "code",
   "execution_count": 89,
   "id": "7ca1bf45",
   "metadata": {},
   "outputs": [],
   "source": [
    "X_train = X[0:400, :]\n",
    "y_train = Y[0:400]\n",
    "X_test  = X[401:, :]\n",
    "Y_test  = Y[401:]\n",
    "\n",
    "num_test = X_test.shape[0]"
   ]
  },
  {
   "cell_type": "markdown",
   "id": "3dda0429-009b-4d5f-a52f-5487d91c7d22",
   "metadata": {},
   "source": [
    "### Train the Classifier"
   ]
  },
  {
   "cell_type": "code",
   "execution_count": 92,
   "id": "e0389410",
   "metadata": {},
   "outputs": [
    {
     "name": "stdout",
     "output_type": "stream",
     "text": [
      "iteration 0 / 20000: loss 1.226319\n"
     ]
    },
    {
     "name": "stdout",
     "output_type": "stream",
     "text": [
      "iteration 2000 / 20000: loss 0.531979\n",
      "iteration 4000 / 20000: loss 0.449231\n",
      "iteration 6000 / 20000: loss 0.395471\n",
      "iteration 8000 / 20000: loss 0.383499\n",
      "iteration 10000 / 20000: loss 0.367591\n",
      "iteration 12000 / 20000: loss 0.311794\n",
      "iteration 14000 / 20000: loss 0.371417\n",
      "iteration 16000 / 20000: loss 0.379600\n",
      "iteration 18000 / 20000: loss 0.336308\n",
      "iteration 19999 / 20000: loss 0.370006\n"
     ]
    }
   ],
   "source": [
    "classifier = SVM()\n",
    "loss_hist = classifier.train(X_train, y_train, learning_rate=1e-6,batch_size=200, reg=1, num_iters=20000, verbose_step=2000)"
   ]
  },
  {
   "cell_type": "markdown",
   "id": "4347aaee-fa12-4fc8-bdaa-dcb19f8469f9",
   "metadata": {},
   "source": [
    "### Plot the Loss\n",
    "\n",
    "Plot the loss as a function of iteration number."
   ]
  },
  {
   "cell_type": "code",
   "execution_count": 93,
   "id": "9446e7be",
   "metadata": {},
   "outputs": [
    {
     "data": {
      "image/png": "[encoded data removed]",
      "text/plain": [
       "<Figure size 640x480 with 1 Axes>"
      ]
     },
     "metadata": {},
     "output_type": "display_data"
    }
   ],
   "source": [
    "plt.plot(loss_hist)\n",
    "plt.xlabel('Iteration number')\n",
    "plt.ylabel('Loss value')\n",
    "plt.show()"
   ]
  },
  {
   "cell_type": "markdown",
   "id": "8574c0eb-8d3e-4adb-ad31-3d13c3708272",
   "metadata": {},
   "source": [
    "### Test the Classifier\n",
    "Evaluate the performance on both the training and validation set."
   ]
  },
  {
   "cell_type": "code",
   "execution_count": 77,
   "id": "0c70c23d",
   "metadata": {},
   "outputs": [
    {
     "name": "stdout",
     "output_type": "stream",
     "text": [
      "training accuracy: 0.855000\n",
      "validation accuracy: 0.892857\n"
     ]
    }
   ],
   "source": [
    "Y_train_pred = classifier.predict(X_train)\n",
    "print('training accuracy: %f' % (np.mean(y_train == Y_train_pred), ))\n",
    "Y_test_pred = classifier.predict(X_test)\n",
    "print('validation accuracy: %f' % (np.mean(Y_test == Y_test_pred), ))"
   ]
  },
  {
   "cell_type": "markdown",
   "id": "c673a0fc",
   "metadata": {},
   "source": [
    "## Handwritten Digits"
   ]
  },
  {
   "cell_type": "markdown",
   "id": "3fe3f365",
   "metadata": {},
   "source": [
    "This dataset is publicly available and can be downloaded from [this link](https://archive.ics.uci.edu/dataset/80/optical+recognition+of+handwritten+digits)."
   ]
  },
  {
   "cell_type": "markdown",
   "id": "50425d04",
   "metadata": {},
   "source": [
    "### Training Data"
   ]
  },
  {
   "cell_type": "code",
   "execution_count": 80,
   "id": "86a19e2b",
   "metadata": {},
   "outputs": [
    {
     "name": "stdout",
     "output_type": "stream",
     "text": [
      "Dimension numbers : 64\n",
      "Number of data    : 3823\n",
      "Labels            : [0 1 2 3 4 5 6 7 8 9]\n"
     ]
    }
   ],
   "source": [
    "data = np.loadtxt(\"./datasets/handwritten_digits/optdigits.tra\", delimiter=\",\", dtype=int)\n",
    "X_train = np.int32(data[:, 0:-1])  \n",
    "y_train = np.int32(data[:, -1]) \n",
    "\n",
    "print(\"Dimension numbers :\", X_train.shape[1])\n",
    "print(\"Number of data    :\", X_train.shape[0])\n",
    "print(\"Labels            :\", np.unique(y_train))"
   ]
  },
  {
   "cell_type": "markdown",
   "id": "26719ea8",
   "metadata": {},
   "source": [
    "### Test Data"
   ]
  },
  {
   "cell_type": "code",
   "execution_count": 81,
   "id": "ed99de8c",
   "metadata": {},
   "outputs": [
    {
     "data": {
      "image/png": "[encoded data removed]",
      "text/plain": [
       "<Figure size 640x480 with 100 Axes>"
      ]
     },
     "metadata": {},
     "output_type": "display_data"
    }
   ],
   "source": [
    "for i in range(100):\n",
    "    X_train_ = X_train[i,:].reshape(8, 8)\n",
    "    X_train_ = np.abs(255.0 - 255.0 / 16.0 * X_train_)\n",
    "    plt.subplot(20, 10, i + 1)\n",
    "    # Rescale the weights to be between 0 and 255\n",
    "    plt.imshow(X_train_.astype('uint8'), cmap='Greys')\n",
    "    plt.axis('off')"
   ]
  },
  {
   "cell_type": "code",
   "execution_count": 82,
   "id": "3f7f828f",
   "metadata": {},
   "outputs": [
    {
     "name": "stdout",
     "output_type": "stream",
     "text": [
      "Dimension numbers : 64\n",
      "Number of data    : 1797\n",
      "Labels            : [0 1 2 3 4 5 6 7 8 9]\n"
     ]
    }
   ],
   "source": [
    "data = np.loadtxt(\"./datasets/handwritten_digits/optdigits.tes\", delimiter=\",\", dtype=int)\n",
    "X_test = np.int32(data[:, 0:-1])  \n",
    "y_test = np.int32(data[:, -1]) \n",
    "\n",
    "print(\"Dimension numbers :\", X_test.shape[1])\n",
    "print(\"Number of data    :\", X_test.shape[0])\n",
    "print(\"Labels            :\", np.unique(y_test))"
   ]
  },
  {
   "cell_type": "markdown",
   "id": "228b23e6",
   "metadata": {},
   "source": [
    "### Train the Classifier"
   ]
  },
  {
   "cell_type": "code",
   "execution_count": 83,
   "id": "94863d8a",
   "metadata": {},
   "outputs": [
    {
     "name": "stdout",
     "output_type": "stream",
     "text": [
      "iteration 0 / 20000: loss 8.904527\n"
     ]
    },
    {
     "name": "stdout",
     "output_type": "stream",
     "text": [
      "iteration 5000 / 20000: loss 0.289794\n",
      "iteration 10000 / 20000: loss 0.222224\n",
      "iteration 15000 / 20000: loss 0.191174\n",
      "iteration 19999 / 20000: loss 0.171786\n"
     ]
    }
   ],
   "source": [
    "classifier = SVM()\n",
    "loss_hist = classifier.train(X_train, y_train, learning_rate=1e-5, batch_size=None, num_iters=20000, verbose_step=5000)"
   ]
  },
  {
   "cell_type": "markdown",
   "id": "fae4657e-182e-45a2-acb4-4ebc694a8973",
   "metadata": {},
   "source": [
    "### Plot the Loss\n",
    "\n",
    "Plot the loss as a function of iteration number."
   ]
  },
  {
   "cell_type": "code",
   "execution_count": 84,
   "id": "697af6bb",
   "metadata": {},
   "outputs": [
    {
     "data": {
      "image/png": "[encoded data removed]",
      "text/plain": [
       "<Figure size 640x480 with 1 Axes>"
      ]
     },
     "metadata": {},
     "output_type": "display_data"
    }
   ],
   "source": [
    "plt.plot(loss_hist)\n",
    "plt.xlabel('Iteration number')\n",
    "plt.ylabel('Loss value')\n",
    "plt.show()"
   ]
  },
  {
   "cell_type": "markdown",
   "id": "de7d374c",
   "metadata": {},
   "source": [
    "### Test the Classifier\n",
    "\n",
    "Evaluate the performance on both the training and validation set."
   ]
  },
  {
   "cell_type": "code",
   "execution_count": 85,
   "id": "210a6149",
   "metadata": {},
   "outputs": [
    {
     "name": "stdout",
     "output_type": "stream",
     "text": [
      "training accuracy: 0.967565\n",
      "validation accuracy: 0.935448\n"
     ]
    }
   ],
   "source": [
    "y_train_pred = classifier.predict(X_train)\n",
    "print('training accuracy: %f' % (np.mean(y_train == y_train_pred), ))\n",
    "y_test_pred = classifier.predict(X_test)\n",
    "print('validation accuracy: %f' % (np.mean(y_test == y_test_pred), ))"
   ]
  },
  {
   "cell_type": "markdown",
   "id": "e9853e54",
   "metadata": {},
   "source": [
    "### Visualize the Learned Weights\n",
    "* Take matrix `W` and strip out the bias. \n",
    "* For each class, reshape the matrix back into 2D arrays\n",
    "* Plot the 2D arrays (matrices) as images."
   ]
  },
  {
   "cell_type": "code",
   "execution_count": 86,
   "id": "2d7175ee",
   "metadata": {},
   "outputs": [
    {
     "data": {
      "image/png": "[encoded data removed]",
      "text/plain": [
       "<Figure size 640x480 with 10 Axes>"
      ]
     },
     "metadata": {},
     "output_type": "display_data"
    }
   ],
   "source": [
    "w = classifier.W[:-1, :] # strip out the bias\n",
    "w = w.reshape(8, 8, 10)\n",
    "w_min, w_max = np.min(w), np.max(w)\n",
    "classes = ['0', '1', '2', '3', '4', '5', '6', '7', '8', '9']\n",
    "for i in range(10):\n",
    "    plt.subplot(2, 5, i + 1)\n",
    "      \n",
    "    # Rescale the weights to be between 0 and 255\n",
    "    wimg = 255.0 * (w[:, :, i].squeeze() - w_min) / (w_max - w_min)\n",
    "    plt.imshow(wimg.astype('uint8'), cmap='Greys')\n",
    "    plt.axis('off')\n",
    "    plt.title(classes[i])"
   ]
  }
 ],
 "metadata": {
  "kernelspec": {
   "display_name": "ipykernel 3.12.4",
   "language": "python",
   "name": "py.3.12.4"
  },
  "language_info": {
   "codemirror_mode": {
    "name": "ipython",
    "version": 3
   },
   "file_extension": ".py",
   "mimetype": "text/x-python",
   "name": "python",
   "nbconvert_exporter": "python",
   "pygments_lexer": "ipython3",
   "version": "3.12.3"
  }
 },
 "nbformat": 4,
 "nbformat_minor": 5
}

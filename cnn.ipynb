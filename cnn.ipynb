{
 "cells": [
  {
   "cell_type": "markdown",
   "id": "e0f4f274",
   "metadata": {},
   "source": [
    "#  Convolutional Neural Network with Pre-Convolved Input"
   ]
  },
  {
   "cell_type": "markdown",
   "id": "5a231062",
   "metadata": {},
   "source": [
    "**This material is heavily based on the popular Standford CS231n lecture material.** [Please check on their website for more detailed information](https://cs231n.github.io/).\n",
    "\n",
    "However, in this sectio, we are only going to implement the simplified version of a CNN. First, we will apply preconvolution to all training and testing datasets. Next, we will use the pre-convolved images to train a two-layer fully connected Neural Network.\n",
    "\n",
    "In summary, the main difference is in how the network is trained (the backward pass). As for the forward pass, it is nevertheless similar to a CNN."
   ]
  },
  {
   "cell_type": "markdown",
   "id": "e58d94f3",
   "metadata": {},
   "source": [
    "## Preparations\n",
    "As usual, let's start with some preparations."
   ]
  },
  {
   "cell_type": "code",
   "execution_count": 24,
   "id": "d0e94322",
   "metadata": {},
   "outputs": [],
   "source": [
    "import numpy as np\n",
    "from scipy.optimize import minimize\n",
    "import matplotlib.pyplot as plt\n",
    "\n",
    "plt.rcParams.update({\n",
    "    \"text.usetex\": True,\n",
    "    \"font.family\": \"sans-serif\",\n",
    "    \"font.size\": 10,\n",
    "})\n",
    "\n",
    "from utils import *\n",
    "\n",
    "np.set_printoptions(precision=5, suppress=True)\n"
   ]
  },
  {
   "cell_type": "markdown",
   "id": "384b2cf2",
   "metadata": {},
   "source": [
    "## Image Convolution\n",
    "\n",
    "A convolution is done by multiplying a pixel’s and its neighboring pixels color value by a matrix (kernel matrix).\n",
    "\n",
    "The convolution function is as follows, where:\n",
    "* `img_in` is the image as a 2D matrix\n",
    "* `kernel` is the filter kernel matrix\n",
    "* `s` is the stride number\n",
    "\n",
    "Typically, when `s=1`, the dimension should not change. This is possible if the image has been previously padded. For a `3x3` filter matrix, we need 1 layer of padding. For a `5x5` filter matrix, we will need two layes of padding. However, if the filter dimensions are even numbers, we will not be able to apply uniform padding. Check [this material](https://www.d2l.ai/chapter_convolutional-neural-networks/lenet.html) for more infomation."
   ]
  },
  {
   "cell_type": "code",
   "execution_count": 25,
   "id": "04a142b8",
   "metadata": {},
   "outputs": [],
   "source": [
    "def convolve_image(img_in, kernel, s):\n",
    "    dim = kernel.shape\n",
    "    nr, nc, = img_in.shape\n",
    "\n",
    "    R = np.arange(0, nr - (dim[0] - s), s)\n",
    "    C = np.arange(0, nc - (dim[1] - s), s)\n",
    "    \n",
    "    img_out = np.zeros([len(R), len(C)])\n",
    "\n",
    "    for i, r in enumerate(R):\n",
    "        for j, c in enumerate(C):\n",
    "            img_out[i, j] =np.sum(kernel * img_in[r:r+dim[0], c:c+dim[1]])\n",
    "\n",
    "    img_out = np.round(img_out / np.max(img_out) * 255.0)\n",
    "    return np.int32(img_out)"
   ]
  },
  {
   "cell_type": "markdown",
   "id": "46991afa",
   "metadata": {},
   "source": [
    "## Max Pooling"
   ]
  },
  {
   "cell_type": "markdown",
   "id": "435eab2f",
   "metadata": {},
   "source": [
    "Max pooling is a downsampling technique used in convolutional neural networks (CNNs) to reduce spatial dimensions of feature maps while preserving important features. It achieves this by selecting the maximum value within each small, overlapping region (or \"window\") of the feature map. "
   ]
  },
  {
   "cell_type": "code",
   "execution_count": 26,
   "id": "cc14544b",
   "metadata": {},
   "outputs": [],
   "source": [
    "def maxpool_image(img_in, dim, s):\n",
    "    nr, nc, = img_in.shape\n",
    "\n",
    "    R = np.arange(0, nr - (dim[0] - s), s)\n",
    "    C = np.arange(0, nc - (dim[1] - s), s)\n",
    "    \n",
    "    img_out = np.zeros([len(R), len(C)])\n",
    "\n",
    "    for i, r in enumerate(R):\n",
    "        for j, c in enumerate(C):\n",
    "            img_out[i, j] = np.max(img_in[r:r+dim[0], c:c+dim[1]])\n",
    "\n",
    "    img_out = np.round(img_out / np.max(img_out) * 255.0)\n",
    "    return np.int32(img_out)"
   ]
  },
  {
   "cell_type": "markdown",
   "id": "64711f34",
   "metadata": {},
   "source": [
    "Let's now do the convolution. The dimension of the filter matrix is 3x3 and the stride is 1."
   ]
  },
  {
   "cell_type": "markdown",
   "id": "518019ce",
   "metadata": {},
   "source": [
    "## Diagram of the neural network"
   ]
  },
  {
   "cell_type": "markdown",
   "id": "b510957f",
   "metadata": {},
   "source": [
    "![](./images/2fcnn.png)"
   ]
  },
  {
   "cell_type": "markdown",
   "id": "0b761c5e",
   "metadata": {},
   "source": [
    "## class TwoLayerNet"
   ]
  },
  {
   "cell_type": "markdown",
   "id": "b0c8074e",
   "metadata": {},
   "source": [
    "Here, we are using the the ScyPy instead of our previous gradient descent method. There are: `D*H+H*C+H+C` variables that we must solve. For this reasons, our vanilla gradient descent method often gives unsatisfactory results."
   ]
  },
  {
   "cell_type": "code",
   "execution_count": 27,
   "id": "17b45e3e",
   "metadata": {},
   "outputs": [],
   "source": [
    "class TwoLayerNet():\n",
    "    \"\"\"\n",
    "    A two-layer fully-connected neural network. The net has an input dimension of\n",
    "    N, a hidden layer dimension of H, and performs classification over C classes.\n",
    "    We train the network with a softmax loss function and L2 regularization on the\n",
    "    weight matrices. The network uses a ReLU nonlinearity after the first fully\n",
    "    connected layer.\n",
    "\n",
    "    In other words, the network has the following architecture:\n",
    "\n",
    "    input - fully connected layer - ReLU - fully connected layer - softmax\n",
    "\n",
    "    The outputs of the second fully-connected layer are the scores for each class.\n",
    "    \"\"\"\n",
    "\n",
    "\n",
    "    def __init__(self, input_size, hidden_size, output_size, std=1e-5):\n",
    "        \"\"\"\n",
    "        Initialize the model. Weights are initialized to small random values and\n",
    "        biases are initialized to zero. Weights and biases are stored in the\n",
    "        variable self.params, which is a dictionary with the following keys:\n",
    "\n",
    "        W1: First layer weights; has shape (D, H)\n",
    "        b1: First layer biases; has shape (H,)\n",
    "        W2: Second layer weights; has shape (H, C)\n",
    "        b2: Second layer biases; has shape (C,)\n",
    "\n",
    "        Inputs:\n",
    "        - input_size: The dimension D of the input data.\n",
    "        - hidden_size: The number of neurons H in the hidden layer.\n",
    "        - output_size: The number of classes C.\n",
    "        \"\"\"\n",
    "        self.params = {}\n",
    "        self.params['W1'] = std * np.random.randn(input_size, hidden_size)\n",
    "        self.params['b1'] = np.zeros(hidden_size)\n",
    "        self.params['W2'] = std * np.random.randn(hidden_size, output_size)\n",
    "        self.params['b2'] = np.zeros(output_size)\n",
    "\n",
    "\n",
    "    @staticmethod\n",
    "    def loss(W1, b1, W2, b2, X, Y, reg=0.0, grad=False):\n",
    "        \"\"\"\n",
    "        Compute the loss and gradients for a two layer fully connected neural\n",
    "        network.\n",
    "\n",
    "        Inputs:\n",
    "        - X: Input data of shape (N, D). Each X[i] is a training sample.\n",
    "        - Y: Vector of training labels. Y[i] is the label for X[i], and each y[i] is\n",
    "        an integer in the range 0 <= Y[i] < C. This parameter is optional; if it\n",
    "        is not passed then we only return scores, and if it is passed then we\n",
    "        instead return the loss and gradients.\n",
    "        - reg: Regularization strength.\n",
    "        - grad: flag to or NOT to return the loss gradients\n",
    "\n",
    "        Returns:\n",
    "        - loss: Loss (data loss and regularization loss) for this batch of training\n",
    "        samples.\n",
    "        - grads: Dictionary mapping parameter names to gradients of those parameters\n",
    "        with respect to the loss function; has the same keys as self.params.\n",
    "        \"\"\"\n",
    "        N, D = X.shape\n",
    "\n",
    "        # Compute the forward pass\n",
    "        fc1 = X.dot(W1) + b1     # fully connected\n",
    "        X2 = np.maximum(0, fc1)  # ReLU\n",
    "        F = X2.dot(W2) + b2 # fully connected\n",
    "        \n",
    "        # Compute the loss \n",
    "        F = F - np.max(F, axis=1).reshape(-1,1)\n",
    "        expF = np.exp(F)\n",
    "        softmax = expF/np.sum(expF, axis=1).reshape(-1,1) \n",
    "        loss = np.sum(-np.log(softmax[range(N),Y])) / N + reg  * (np.sum(W2 * W2) + np.sum( W1 * W1 ))\n",
    "        \n",
    "        if grad == True: # loss gradient is optionals\n",
    "            # Backward pass: compute gradients\n",
    "            softmax[np.arange(N) ,Y] -= 1\n",
    "            softmax /= N\n",
    "\n",
    "            # W2 gradient\n",
    "            dW2 = X2.T.dot(softmax)   # [HxN] * [NxC] = [HxC]\n",
    "\n",
    "            # b2 gradient\n",
    "            db2 = softmax.sum(axis=0)\n",
    "\n",
    "            # W1 gradient\n",
    "            dW1 = softmax.dot(W2.T)   # [NxC] * [CxH] = [NxH]\n",
    "            dfc1 = dW1 * (fc1>0)      # [NxH] . [NxH] = [NxH]\n",
    "            dW1 = X.T.dot(dfc1)       # [DxN] * [NxH] = [DxH]\n",
    "\n",
    "            # b1 gradient\n",
    "            db1 = dfc1.sum(axis=0)\n",
    "\n",
    "            # regularization gradient\n",
    "            dW1 += reg * 2 * W1\n",
    "            dW2 += reg * 2 * W2\n",
    "\n",
    "            dW = np.hstack((dW1.flatten(), db1, dW2.flatten(), db2))\n",
    "        \n",
    "            return (loss, dW)\n",
    "        \n",
    "        return loss\n",
    "\n",
    "\n",
    "    def train(self, X, Y, reg=1e-5, gtol=1e-5, maxiter=1000, verbose=False):\n",
    "        \"\"\"\n",
    "        Train this neural network using stochastic gradient descent.\n",
    "\n",
    "        Inputs:\n",
    "        - X: A numpy array of shape (N, D) giving training data.\n",
    "        - y: A numpy array f shape (N,) giving training labels; y[i] = c means that\n",
    "        X[i] has label c, where 0 <= c < C.\n",
    "        - X_val: A numpy array of shape (N_val, D) giving validation data.\n",
    "        - y_val: A numpy array of shape (N_val,) giving validation labels.\n",
    "        - reg: Scalar giving regularization strength.\n",
    "        - num_iters: Number of steps to take when optimizing.\n",
    "        - verbose: boolean; if true print progress during optimization.\n",
    "        \"\"\"\n",
    "        self.params[\"loss_history\"] = []\n",
    "\n",
    "        D, H = self.params['W1'].shape\n",
    "        H, C = self.params['W2'].shape\n",
    "\n",
    "        def obj(x):\n",
    "            W1 = x[0: D*H].reshape(D,H)\n",
    "            b1 = x[D*H: D*H+H]\n",
    "            W2 = x[D*H+H: D*H+H+(H*C)].reshape(H,C)\n",
    "            b2 = x[D*H+H+(H*C):]\n",
    "\n",
    "            loss = self.loss(W1, b1, W2, b2, X, Y, reg=reg, grad=True)\n",
    "            self.params[\"loss_history\"].append(loss[0])\n",
    "\n",
    "            if verbose == True:\n",
    "                print(loss)\n",
    "\n",
    "            return loss\n",
    "\n",
    "        x0 = np.hstack((self.params['W1'].flatten(), \n",
    "                        self.params['b1'], \n",
    "                        self.params['W2'].flatten(), \n",
    "                        self.params['b2']))\n",
    "        res = minimize(obj, x0, method='L-BFGS-B', jac=True, options={'gtol': gtol, 'maxiter': maxiter, 'disp': True})\n",
    "\n",
    "        self.params[\"W1\"] = res.x[0: D*H].reshape(D,H)\n",
    "        self.params[\"b1\"] = res.x[D*H: D*H+H]\n",
    "        self.params[\"W2\"] = res.x[D*H+H: D*H+H+(H*C)].reshape(H,C)\n",
    "        self.params[\"b2\"] = res.x[D*H+H+(H*C):]\n",
    "    \n",
    "\n",
    "    def predict(self, X):\n",
    "        \"\"\"\n",
    "        Use the trained weights of this two-layer network to predict labels for\n",
    "        data points. For each data point we predict scores for each of the C\n",
    "        classes, and assign each data point to the class with the highest score.\n",
    "\n",
    "        Inputs:\n",
    "        - X: A numpy array of shape (N, D) giving N D-dimensional data points to\n",
    "        classify.\n",
    "\n",
    "        Returns:\n",
    "        - Y_pred: A numpy array of shape (N,) giving predicted labels for each of\n",
    "        the elements of X. For all i, y_pred[i] = c means that X[i] is predicted\n",
    "        to have class c, where 0 <= c < C.\n",
    "        \"\"\"\n",
    "\n",
    "        # Unpack variables from the params dictionary\n",
    "        W1, b1 = self.params['W1'], self.params['b1']\n",
    "        W2, b2 = self.params['W2'], self.params['b2']\n",
    "\n",
    "        # Compute the forward pass\n",
    "        fc1 = X.dot(W1) + b1     # fully connected\n",
    "        X2 = np.maximum(0, fc1)  # ReLU\n",
    "        scores = X2.dot(W2) + b2 # fully connected\n",
    "    \n",
    "        y_pred = np.argmax( scores, axis=1)\n",
    "        \n",
    "        return y_pred"
   ]
  },
  {
   "cell_type": "markdown",
   "id": "420e8df5",
   "metadata": {},
   "source": [
    "----"
   ]
  },
  {
   "cell_type": "markdown",
   "id": "bcac336f",
   "metadata": {},
   "source": [
    "## Handwritten Digits"
   ]
  },
  {
   "cell_type": "markdown",
   "id": "38d6d6d0",
   "metadata": {},
   "source": [
    "This dataset is publicly available and can be downloaded from [this link](https://archive.ics.uci.edu/dataset/80/optical+recognition+of+handwritten+digits).\n",
    "\n",
    "First, we will start with loading all datasets."
   ]
  },
  {
   "cell_type": "code",
   "execution_count": 28,
   "id": "434a41bf",
   "metadata": {},
   "outputs": [
    {
     "name": "stdout",
     "output_type": "stream",
     "text": [
      "Dimension numbers : 256\n",
      "Number of data    : 7291\n"
     ]
    }
   ],
   "source": [
    "import h5py\n",
    "with h5py.File(\"./datasets/usps/usps.h5\", 'r') as hf:\n",
    "    X_train = hf.get(\"train\").get('data')[:] * 255.0\n",
    "    Y_train = np.int32(hf.get(\"train\").get('target')[:]) \n",
    "\n",
    "    X_test = hf.get(\"test\").get('data')[:] * 255.0\n",
    "    Y_test = np.int32(hf.get(\"test\").get('target')[:]) \n",
    "\n",
    "print(\"Dimension numbers :\", X_train.shape[1])\n",
    "print(\"Number of data    :\", X_train.shape[0])\n"
   ]
  },
  {
   "cell_type": "markdown",
   "id": "b6109df3",
   "metadata": {},
   "source": [
    "### Border Padding"
   ]
  },
  {
   "cell_type": "markdown",
   "id": "6ff21f9a",
   "metadata": {},
   "source": [
    "Here, we are going to pad the image border with zeros to avoid information loss around at the border. We will add:\n",
    "* 1 row above the first row\n",
    "* 1 row below the last row\n",
    "* 1 column in the left-side of the first column\n",
    "* 1 column in the right-side of the last column\n",
    "\n",
    "Since the original image is 16x16, the padded image will be 18x18."
   ]
  },
  {
   "cell_type": "code",
   "execution_count": 29,
   "id": "8d3a6b45",
   "metadata": {},
   "outputs": [],
   "source": [
    "X_train_paded = []\n",
    "for x in X_train:\n",
    "    x_ = np.zeros([18, 18])\n",
    "    x_[1:-1, 1:-1] = x.reshape(16,16)\n",
    "    X_train_paded.append(x_.reshape(1,-1))\n",
    "\n",
    "X_test_padded = []\n",
    "for x in X_test:\n",
    "    x_ = np.zeros([18, 18])\n",
    "    x_[1:-1, 1:-1] = x.reshape(16,16)\n",
    "    X_test_padded.append(x_.reshape(1,-1))"
   ]
  },
  {
   "cell_type": "markdown",
   "id": "8c9181e0",
   "metadata": {},
   "source": [
    "### Apply Covolution and Max Pooling to Datasets"
   ]
  },
  {
   "cell_type": "markdown",
   "id": "096d7e43",
   "metadata": {},
   "source": [
    "Next, we will apply convolution and max pooling to both datasets."
   ]
  },
  {
   "cell_type": "code",
   "execution_count": 30,
   "id": "fbddb7f8",
   "metadata": {},
   "outputs": [],
   "source": [
    "import os\n",
    "\n",
    "f1 = \"./X_train_conv.txt\"\n",
    "f2 = \"./X_test_conv.txt\"\n",
    "\n",
    "if os.path.exists(f1):\n",
    "    os.remove(f1)\n",
    "\n",
    "if os.path.exists(f2):\n",
    "    os.remove(f2)\n",
    "\n",
    "# Gussian filter kernel\n",
    "kernel = 1/16 * np.array([[1, 2, 1],\n",
    "                          [2, 4, 2],\n",
    "                          [1, 2, 1]])\n",
    "\n",
    "with open(f1, \"ab\") as f:\n",
    "    for x in X_train_paded:\n",
    "        img_out = convolve_image(x.reshape(18,18), kernel, 1)\n",
    "        img_out = maxpool_image(img_out, [2, 2], 2)\n",
    "        np.savetxt(f, img_out.reshape(1,-1), fmt=\"%i\", delimiter=',', newline='\\n')\n",
    "\n",
    "with open(f2, \"ab\") as f:\n",
    "    for x in X_test_padded:\n",
    "        img_out = convolve_image(x.reshape(18,18), kernel, 1)\n",
    "        img_out = maxpool_image(img_out, [2, 2], 2)\n",
    "        np.savetxt(f, img_out.reshape(1,-1), fmt=\"%i\", delimiter=',', newline='\\n')"
   ]
  },
  {
   "cell_type": "markdown",
   "id": "b6d17c18",
   "metadata": {},
   "source": [
    "Now, let's continue with training the network by using train dataset:"
   ]
  },
  {
   "cell_type": "code",
   "execution_count": 31,
   "id": "8d3ba83a",
   "metadata": {},
   "outputs": [
    {
     "name": "stdout",
     "output_type": "stream",
     "text": [
      "Dimension numbers : 64\n",
      "Number of data    : 7291\n",
      "Labels            : [0 1 2 3 4 5 6 7 8 9]\n"
     ]
    }
   ],
   "source": [
    "X_train_conv = np.loadtxt(f1, delimiter=\",\", dtype=int)\n",
    "\n",
    "print(\"Dimension numbers :\", X_train_conv.shape[1])\n",
    "print(\"Number of data    :\", X_train_conv.shape[0])\n",
    "print(\"Labels            :\", np.unique(Y_train))\n",
    "\n",
    "# For the NN\n",
    "input_size  = X_train_conv.shape[1]\n",
    "num_classes = len(np.unique(Y_train))"
   ]
  },
  {
   "cell_type": "code",
   "execution_count": 32,
   "id": "62ae3164",
   "metadata": {},
   "outputs": [
    {
     "name": "stdout",
     "output_type": "stream",
     "text": [
      "Dimension numbers : 64\n",
      "Number of data    : 2007\n",
      "Labels            : [0 1 2 3 4 5 6 7 8 9]\n"
     ]
    }
   ],
   "source": [
    "X_test_conv = np.loadtxt(f2, delimiter=\",\", dtype=int)\n",
    "\n",
    "print(\"Dimension numbers :\", X_test_conv.shape[1])\n",
    "print(\"Number of data    :\", X_test_conv.shape[0])\n",
    "print(\"Labels            :\", np.unique(Y_test))"
   ]
  },
  {
   "cell_type": "markdown",
   "id": "cbdd9379",
   "metadata": {},
   "source": [
    "#### After Convolution and Max Pooling\n",
    "\n",
    "Here, we are going to plot some of the convolved images."
   ]
  },
  {
   "cell_type": "code",
   "execution_count": 33,
   "id": "988b67ef",
   "metadata": {},
   "outputs": [
    {
     "data": {
      "image/png": "[encoded data removed]",
      "text/plain": [
       "<Figure size 640x480 with 40 Axes>"
      ]
     },
     "metadata": {},
     "output_type": "display_data"
    }
   ],
   "source": [
    "n = np.int32(np.sqrt(X_train_conv.shape[1]))\n",
    "\n",
    "for i in range(40):\n",
    "    X_train_conv_ = X_train_conv[i,:].reshape(n, n)\n",
    "    plt.subplot(5, 8, i + 1)\n",
    "    # Rescale the weights to be between 0 and 255\n",
    "    plt.imshow(X_train_conv_.astype('uint8'), cmap='Greys')\n",
    "    plt.axis('off')"
   ]
  },
  {
   "cell_type": "markdown",
   "id": "d666f0c2",
   "metadata": {},
   "source": [
    "#### The Original Images\n",
    "\n",
    "For comparison, let's plot some of the original images."
   ]
  },
  {
   "cell_type": "code",
   "execution_count": 34,
   "id": "ff058025",
   "metadata": {},
   "outputs": [
    {
     "data": {
      "image/png": "[encoded data removed]",
      "text/plain": [
       "<Figure size 640x480 with 40 Axes>"
      ]
     },
     "metadata": {},
     "output_type": "display_data"
    }
   ],
   "source": [
    "for i in range(40):\n",
    "    X_train_ = X_train[i,:].reshape(16,16)\n",
    "    plt.subplot(5, 8, i + 1)\n",
    "    # Rescale the weights to be between 0 and 255\n",
    "    plt.imshow(X_train_.astype('uint8'), cmap='Greys')\n",
    "    plt.axis('off')"
   ]
  },
  {
   "cell_type": "markdown",
   "id": "bd3ea969",
   "metadata": {},
   "source": [
    "### Training and Testing the Neural Network"
   ]
  },
  {
   "cell_type": "markdown",
   "id": "ca17fd41",
   "metadata": {},
   "source": [
    "Now, let us setup and then train the neural network."
   ]
  },
  {
   "cell_type": "code",
   "execution_count": 62,
   "id": "309dddd5",
   "metadata": {},
   "outputs": [],
   "source": [
    "hidden_size = 50\n",
    "\n",
    "net = TwoLayerNet(input_size, hidden_size, num_classes)\n",
    "stats = net.train(X_train_conv, Y_train, reg=0.05, gtol=1e-3, maxiter=100, verbose=False)"
   ]
  },
  {
   "cell_type": "markdown",
   "id": "a044edbe",
   "metadata": {},
   "source": [
    "Next, we check the accuray for training and test dataset."
   ]
  },
  {
   "cell_type": "code",
   "execution_count": 63,
   "id": "8b48e3da",
   "metadata": {},
   "outputs": [
    {
     "name": "stdout",
     "output_type": "stream",
     "text": [
      "Training accuracy :  0.9791523796461391\n",
      "Test accuracy     :  0.9292476332835077\n"
     ]
    }
   ],
   "source": [
    "# Predict on the validation set\n",
    "train_acc = (net.predict(X_train_conv) == Y_train).mean()\n",
    "print('Training accuracy : ', train_acc)\n",
    "\n",
    "# Predict on the test set\n",
    "test_acc = (net.predict(X_test_conv) == Y_test).mean()\n",
    "print('Test accuracy     : ', test_acc)"
   ]
  },
  {
   "cell_type": "code",
   "execution_count": 64,
   "id": "a9f28c7b",
   "metadata": {},
   "outputs": [
    {
     "data": {
      "image/png": "[encoded data removed]",
      "text/plain": [
       "<Figure size 640x480 with 1 Axes>"
      ]
     },
     "metadata": {},
     "output_type": "display_data"
    }
   ],
   "source": [
    "plt.plot(net.params[\"loss_history\"])\n",
    "plt.xlabel('Iteration number')\n",
    "plt.ylabel('Loss value')\n",
    "plt.show()"
   ]
  },
  {
   "cell_type": "markdown",
   "id": "3edfec8d",
   "metadata": {},
   "source": [
    "### Save The Matrix for Arduino Demostration"
   ]
  },
  {
   "cell_type": "code",
   "execution_count": null,
   "id": "761d6e35",
   "metadata": {},
   "outputs": [],
   "source": [
    "np.savetxt('W1_CNN.txt', \n",
    "           np.float16(np.hstack((net.params[\"W1\"].transpose(), net.params['b1'].reshape(-1,1)))), \n",
    "           delimiter='\\0\\n', fmt='%.1e', newline='\\0\\n')\n",
    "\n",
    "np.savetxt('W2_CNN.txt', \n",
    "           np.float16(np.hstack((net.params[\"W2\"].transpose(), net.params['b2'].reshape(-1,1)))), \n",
    "           delimiter='\\0\\n', fmt='%.1e', newline='\\0\\n')"
   ]
  }
 ],
 "metadata": {
  "kernelspec": {
   "display_name": "ipykernel 3.12.4",
   "language": "python",
   "name": "py.3.12.4"
  },
  "language_info": {
   "codemirror_mode": {
    "name": "ipython",
    "version": 3
   },
   "file_extension": ".py",
   "mimetype": "text/x-python",
   "name": "python",
   "nbconvert_exporter": "python",
   "pygments_lexer": "ipython3",
   "version": "3.12.3"
  }
 },
 "nbformat": 4,
 "nbformat_minor": 5
}

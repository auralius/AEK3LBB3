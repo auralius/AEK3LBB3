{
 "cells": [
  {
   "cell_type": "markdown",
   "metadata": {},
   "source": [
    "# Matrix Decomposition"
   ]
  },
  {
   "cell_type": "code",
   "execution_count": 22,
   "metadata": {},
   "outputs": [],
   "source": [
    "import numpy as np"
   ]
  },
  {
   "cell_type": "markdown",
   "metadata": {},
   "source": [
    "## Eigen Decomposition"
   ]
  },
  {
   "cell_type": "code",
   "execution_count": 23,
   "metadata": {},
   "outputs": [],
   "source": [
    "A = np.array([[2, 2],\n",
    "              [-1, 1]])"
   ]
  },
  {
   "cell_type": "code",
   "execution_count": 24,
   "metadata": {},
   "outputs": [
    {
     "name": "stdout",
     "output_type": "stream",
     "text": [
      "Eigen values = \n",
      "[5. 0.]\n",
      "Eigen vectors = \n",
      "[[ 0.9701425  -0.70710678]\n",
      " [ 0.24253563  0.70710678]]\n"
     ]
    }
   ],
   "source": [
    "e, v = np.linalg.eig(A*A)\n",
    "\n",
    "print(\"Eigen values = \")\n",
    "print(e)\n",
    "\n",
    "print(\"Eigen vectors = \")\n",
    "print(v)"
   ]
  },
  {
   "cell_type": "markdown",
   "metadata": {},
   "source": [
    "## SVD Decomposition"
   ]
  },
  {
   "cell_type": "markdown",
   "metadata": {},
   "source": [
    "$$\n",
    "\\mathbf{A}=\\mathbf{U} \\mathbf{\\Sigma} \\mathbf{V}^T\n",
    "$$\n",
    "\n",
    "where:\n",
    "\n",
    "* $\\mathbf{U}$ is an orthogonal matrix\n",
    "* $\\mathbf{\\Sigma}$ is an rectangular diagonal matrix\n",
    "* $\\mathbf{V}$ is an orthogonal matrix\n",
    "\n",
    "\n",
    "The SVD of $\\mathbf{A}$ is closely related to the eigendecompositions of $\\mathbf{A} \\mathbf{A}^T$ and $\\mathbf{A}^T \\mathbf{A}$\n",
    "- The left singular vectors are the eigenvectors of $\\mathbf{A A}^T$\n",
    "- The right singular vectors are the eigenvectors of $\\mathbf{A}^T \\mathbf{A}$\n",
    "- The singular values are the square roots of the eigenvalues of both $\\mathbf{A A}^T$ and $\\mathbf{A}^T \\mathbf{A}$\n"
   ]
  },
  {
   "cell_type": "code",
   "execution_count": 25,
   "metadata": {},
   "outputs": [],
   "source": [
    "A = np.array([[2, 2],\n",
    "              [-1, 1]])"
   ]
  },
  {
   "cell_type": "code",
   "execution_count": 26,
   "metadata": {},
   "outputs": [
    {
     "name": "stdout",
     "output_type": "stream",
     "text": [
      "U = \n",
      "[[-1.00000000e+00  1.11022302e-16]\n",
      " [ 1.11022302e-16  1.00000000e+00]]\n",
      "S = \n",
      "[2.82842712 1.41421356]\n",
      "VT = \n",
      "[[-0.70710678 -0.70710678]\n",
      " [-0.70710678  0.70710678]]\n"
     ]
    }
   ],
   "source": [
    "U, S, VT = np.linalg.svd(A)\n",
    "print(\"U = \")\n",
    "print(U)\n",
    "\n",
    "print(\"S = \")\n",
    "print(S)\n",
    "\n",
    "print(\"VT = \")\n",
    "print(VT)"
   ]
  },
  {
   "cell_type": "markdown",
   "metadata": {},
   "source": [
    "## SVD Decomposition of an Square Symmetric and Positive Definite Matrix\n",
    "\n",
    "A square matrix is called positive definite if it is symmetric and all its eigenvalues $\\lambda$ are positive, that is $\\lambda > 0$.\n",
    "\n",
    "Additionally, if $\\mathbf{A}$ is positive definite, then it is invertible and $\\det(\\mathbf{A}) > 0$.\n",
    "\n",
    "For square symmetric and positive definite matrix:\n",
    "\n",
    "$$\\text{eig}(\\mathbf{A})  = \\mathbf{\\Sigma} $$"
   ]
  },
  {
   "cell_type": "code",
   "execution_count": 27,
   "metadata": {},
   "outputs": [],
   "source": [
    "A = np.array([[2, 1],\n",
    "              [1, 1]])\n",
    "\n",
    "U, S, VT = np.linalg.svd(A)\n",
    "e, v = np.linalg.eig(A)\n",
    "\n"
   ]
  },
  {
   "cell_type": "code",
   "execution_count": 30,
   "metadata": {},
   "outputs": [
    {
     "name": "stdout",
     "output_type": "stream",
     "text": [
      "[2.61803399 0.38196601]\n",
      "[2.61803399 0.38196601]\n"
     ]
    }
   ],
   "source": [
    "print(S)\n",
    "print(e)"
   ]
  }
 ],
 "metadata": {
  "kernelspec": {
   "display_name": "py.3.12.4",
   "language": "python",
   "name": "python3"
  },
  "language_info": {
   "codemirror_mode": {
    "name": "ipython",
    "version": 3
   },
   "file_extension": ".py",
   "mimetype": "text/x-python",
   "name": "python",
   "nbconvert_exporter": "python",
   "pygments_lexer": "ipython3",
   "version": "3.12.3"
  }
 },
 "nbformat": 4,
 "nbformat_minor": 2
}
